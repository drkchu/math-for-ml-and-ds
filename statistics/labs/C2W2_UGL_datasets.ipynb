{
 "cells": [
  {
   "cell_type": "markdown",
   "id": "c6dea874",
   "metadata": {},
   "source": [
    "# Ungraded Lab - Summary Statistics\n",
    "\n",
    "In this notebook, you will be working with two distinct datasets. You will notice that relying solely on the main statistical measures such as mean, variance (or standard deviation), and correlation may not always effectively describe the datasets. Therefore, it is always advisable to supplement these measures with visualization techniques and/or other statistical measures to gain a deeper understanding of the data.\n",
    "\n",
    "You will be working with two well-known datasets: Anscombe's quartet and the Datasaurus Dozen dataset. These datasets are artificially generated and are used to illustrate the fact that some metrics can fail to capture important information present in a dataset. More specifically, these datasets are used to demonstrate how relying solely on metrics can sometimes be misleading. If you're interested, you can read more about Anscombe's quartet and the Datasaurus Dozen dataset at their respective [Wikipedia](https://en.wikipedia.org/wiki/Anscombe%27s_quartet) page and [Autodesk Research](https://damassets.autodesk.net/content/dam/autodesk/research/publications-assets/pdf/same-stats-different-graphs.pdf) article."
   ]
  },
  {
   "cell_type": "code",
   "execution_count": 1,
   "id": "a74d2cd6",
   "metadata": {},
   "outputs": [],
   "source": [
    "import numpy as np\n",
    "import pandas as pd\n",
    "import os\n",
    "import matplotlib.pyplot as plt\n",
    "import utils\n",
    "%matplotlib widget\n"
   ]
  },
  {
   "cell_type": "markdown",
   "id": "d084f9c7",
   "metadata": {},
   "source": [
    "# 1.1 First data set - Anscombe's quartet\n",
    "\n",
    "This first dataset was initially constructed by the statistician Francis Anscombe to demonstrate both the importance of graphing data when analyzing it, and the effect of outliers and other influential observations on statistical properties. (From wikipedia)\n",
    "\n",
    "To read the dataset, which is stored in a `.csv file`, you can use the read_csv function in pandas. This function enables you to load a DataFrame immediately. For further information on this function, you can type help(pd.read_csv) in your code editor."
   ]
  },
  {
   "cell_type": "code",
   "execution_count": 2,
   "id": "8a5ad75e",
   "metadata": {},
   "outputs": [],
   "source": [
    "# This line of code reads the dataset named 'df_anscombe.csv', which is stored in the same directory as this notebook.\n",
    "df_anscombe = pd.read_csv('df_anscombe.csv')"
   ]
  },
  {
   "cell_type": "markdown",
   "id": "9fac4348",
   "metadata": {},
   "source": [
    "The call `df_anscombe.head()` will show you the first five rows of the data set, so you can have a look on its data."
   ]
  },
  {
   "cell_type": "code",
   "execution_count": 3,
   "id": "a20f11a7",
   "metadata": {},
   "outputs": [
    {
     "data": {
      "text/html": [
       "<div>\n",
       "<style scoped>\n",
       "    .dataframe tbody tr th:only-of-type {\n",
       "        vertical-align: middle;\n",
       "    }\n",
       "\n",
       "    .dataframe tbody tr th {\n",
       "        vertical-align: top;\n",
       "    }\n",
       "\n",
       "    .dataframe thead th {\n",
       "        text-align: right;\n",
       "    }\n",
       "</style>\n",
       "<table border=\"1\" class=\"dataframe\">\n",
       "  <thead>\n",
       "    <tr style=\"text-align: right;\">\n",
       "      <th></th>\n",
       "      <th>x</th>\n",
       "      <th>y</th>\n",
       "      <th>group</th>\n",
       "    </tr>\n",
       "  </thead>\n",
       "  <tbody>\n",
       "    <tr>\n",
       "      <th>0</th>\n",
       "      <td>10.0</td>\n",
       "      <td>8.04</td>\n",
       "      <td>1</td>\n",
       "    </tr>\n",
       "    <tr>\n",
       "      <th>1</th>\n",
       "      <td>8.0</td>\n",
       "      <td>6.95</td>\n",
       "      <td>1</td>\n",
       "    </tr>\n",
       "    <tr>\n",
       "      <th>2</th>\n",
       "      <td>13.0</td>\n",
       "      <td>7.58</td>\n",
       "      <td>1</td>\n",
       "    </tr>\n",
       "    <tr>\n",
       "      <th>3</th>\n",
       "      <td>9.0</td>\n",
       "      <td>8.81</td>\n",
       "      <td>1</td>\n",
       "    </tr>\n",
       "    <tr>\n",
       "      <th>4</th>\n",
       "      <td>11.0</td>\n",
       "      <td>8.33</td>\n",
       "      <td>1</td>\n",
       "    </tr>\n",
       "  </tbody>\n",
       "</table>\n",
       "</div>"
      ],
      "text/plain": [
       "      x     y  group\n",
       "0  10.0  8.04      1\n",
       "1   8.0  6.95      1\n",
       "2  13.0  7.58      1\n",
       "3   9.0  8.81      1\n",
       "4  11.0  8.33      1"
      ]
     },
     "execution_count": 3,
     "metadata": {},
     "output_type": "execute_result"
    }
   ],
   "source": [
    "df_anscombe.head()"
   ]
  },
  {
   "cell_type": "code",
   "execution_count": 4,
   "id": "2080e010",
   "metadata": {},
   "outputs": [
    {
     "data": {
      "text/plain": [
       "4"
      ]
     },
     "execution_count": 4,
     "metadata": {},
     "output_type": "execute_result"
    }
   ],
   "source": [
    "# Let's determine the number of groups present in this dataset.\n",
    "df_anscombe.group.nunique()"
   ]
  },
  {
   "cell_type": "markdown",
   "id": "bd9ce36c",
   "metadata": {},
   "source": [
    "This dataset comprises of four groups of data, each containing two components - `x` and `y`. To analyze the data, you can obtain the mean and variance of each group, as well as the correlation between x and y within each group. Pandas provides a built-in function called `DataFrame.describe` that displays common statistics for each variable. To group the data by the group column, you can use the `DataFrame.groupby` function."
   ]
  },
  {
   "cell_type": "markdown",
   "id": "70946c36",
   "metadata": {},
   "source": [
    "The next block of code first groups the `DataFrame` based on the group column, and then applies the describe function to obtain the common statistics for each variable in each group."
   ]
  },
  {
   "cell_type": "code",
   "execution_count": 5,
   "id": "e66e9c08",
   "metadata": {},
   "outputs": [
    {
     "data": {
      "text/html": [
       "<div>\n",
       "<style scoped>\n",
       "    .dataframe tbody tr th:only-of-type {\n",
       "        vertical-align: middle;\n",
       "    }\n",
       "\n",
       "    .dataframe tbody tr th {\n",
       "        vertical-align: top;\n",
       "    }\n",
       "\n",
       "    .dataframe thead tr th {\n",
       "        text-align: left;\n",
       "    }\n",
       "\n",
       "    .dataframe thead tr:last-of-type th {\n",
       "        text-align: right;\n",
       "    }\n",
       "</style>\n",
       "<table border=\"1\" class=\"dataframe\">\n",
       "  <thead>\n",
       "    <tr>\n",
       "      <th></th>\n",
       "      <th colspan=\"8\" halign=\"left\">x</th>\n",
       "      <th colspan=\"8\" halign=\"left\">y</th>\n",
       "    </tr>\n",
       "    <tr>\n",
       "      <th></th>\n",
       "      <th>count</th>\n",
       "      <th>mean</th>\n",
       "      <th>std</th>\n",
       "      <th>min</th>\n",
       "      <th>25%</th>\n",
       "      <th>50%</th>\n",
       "      <th>75%</th>\n",
       "      <th>max</th>\n",
       "      <th>count</th>\n",
       "      <th>mean</th>\n",
       "      <th>std</th>\n",
       "      <th>min</th>\n",
       "      <th>25%</th>\n",
       "      <th>50%</th>\n",
       "      <th>75%</th>\n",
       "      <th>max</th>\n",
       "    </tr>\n",
       "    <tr>\n",
       "      <th>group</th>\n",
       "      <th></th>\n",
       "      <th></th>\n",
       "      <th></th>\n",
       "      <th></th>\n",
       "      <th></th>\n",
       "      <th></th>\n",
       "      <th></th>\n",
       "      <th></th>\n",
       "      <th></th>\n",
       "      <th></th>\n",
       "      <th></th>\n",
       "      <th></th>\n",
       "      <th></th>\n",
       "      <th></th>\n",
       "      <th></th>\n",
       "      <th></th>\n",
       "    </tr>\n",
       "  </thead>\n",
       "  <tbody>\n",
       "    <tr>\n",
       "      <th>1</th>\n",
       "      <td>11.0</td>\n",
       "      <td>9.0</td>\n",
       "      <td>3.316625</td>\n",
       "      <td>4.0</td>\n",
       "      <td>6.5</td>\n",
       "      <td>9.0</td>\n",
       "      <td>11.5</td>\n",
       "      <td>14.0</td>\n",
       "      <td>11.0</td>\n",
       "      <td>7.500909</td>\n",
       "      <td>2.031568</td>\n",
       "      <td>4.26</td>\n",
       "      <td>6.315</td>\n",
       "      <td>7.58</td>\n",
       "      <td>8.57</td>\n",
       "      <td>10.84</td>\n",
       "    </tr>\n",
       "    <tr>\n",
       "      <th>2</th>\n",
       "      <td>11.0</td>\n",
       "      <td>9.0</td>\n",
       "      <td>3.316625</td>\n",
       "      <td>4.0</td>\n",
       "      <td>6.5</td>\n",
       "      <td>9.0</td>\n",
       "      <td>11.5</td>\n",
       "      <td>14.0</td>\n",
       "      <td>11.0</td>\n",
       "      <td>7.500909</td>\n",
       "      <td>2.031657</td>\n",
       "      <td>3.10</td>\n",
       "      <td>6.695</td>\n",
       "      <td>8.14</td>\n",
       "      <td>8.95</td>\n",
       "      <td>9.26</td>\n",
       "    </tr>\n",
       "    <tr>\n",
       "      <th>3</th>\n",
       "      <td>11.0</td>\n",
       "      <td>9.0</td>\n",
       "      <td>3.316625</td>\n",
       "      <td>4.0</td>\n",
       "      <td>6.5</td>\n",
       "      <td>9.0</td>\n",
       "      <td>11.5</td>\n",
       "      <td>14.0</td>\n",
       "      <td>11.0</td>\n",
       "      <td>7.500000</td>\n",
       "      <td>2.030424</td>\n",
       "      <td>5.39</td>\n",
       "      <td>6.250</td>\n",
       "      <td>7.11</td>\n",
       "      <td>7.98</td>\n",
       "      <td>12.74</td>\n",
       "    </tr>\n",
       "    <tr>\n",
       "      <th>4</th>\n",
       "      <td>11.0</td>\n",
       "      <td>9.0</td>\n",
       "      <td>3.316625</td>\n",
       "      <td>8.0</td>\n",
       "      <td>8.0</td>\n",
       "      <td>8.0</td>\n",
       "      <td>8.0</td>\n",
       "      <td>19.0</td>\n",
       "      <td>11.0</td>\n",
       "      <td>7.500909</td>\n",
       "      <td>2.030579</td>\n",
       "      <td>5.25</td>\n",
       "      <td>6.170</td>\n",
       "      <td>7.04</td>\n",
       "      <td>8.19</td>\n",
       "      <td>12.50</td>\n",
       "    </tr>\n",
       "  </tbody>\n",
       "</table>\n",
       "</div>"
      ],
      "text/plain": [
       "          x                                               y            \\\n",
       "      count mean       std  min  25%  50%   75%   max count      mean   \n",
       "group                                                                   \n",
       "1      11.0  9.0  3.316625  4.0  6.5  9.0  11.5  14.0  11.0  7.500909   \n",
       "2      11.0  9.0  3.316625  4.0  6.5  9.0  11.5  14.0  11.0  7.500909   \n",
       "3      11.0  9.0  3.316625  4.0  6.5  9.0  11.5  14.0  11.0  7.500000   \n",
       "4      11.0  9.0  3.316625  8.0  8.0  8.0   8.0  19.0  11.0  7.500909   \n",
       "\n",
       "                                                 \n",
       "            std   min    25%   50%   75%    max  \n",
       "group                                            \n",
       "1      2.031568  4.26  6.315  7.58  8.57  10.84  \n",
       "2      2.031657  3.10  6.695  8.14  8.95   9.26  \n",
       "3      2.030424  5.39  6.250  7.11  7.98  12.74  \n",
       "4      2.030579  5.25  6.170  7.04  8.19  12.50  "
      ]
     },
     "execution_count": 5,
     "metadata": {},
     "output_type": "execute_result"
    }
   ],
   "source": [
    "df_anscombe.groupby('group').describe()"
   ]
  },
  {
   "cell_type": "markdown",
   "id": "02532823",
   "metadata": {},
   "source": [
    "The groups appear to be quite similar, as evidenced by the identical mean and standard deviation values for both `x` and `y` within each group.\n",
    "\n",
    "Additionally, you can analyze the correlation between `x` and `y` within each group.\n",
    "\n",
    "To obtain the correlation matrix for each group, you can follow the same approach as before. First, group the data by the `group` column using `DataFrame.groupby`, and then apply the `.corr` function."
   ]
  },
  {
   "cell_type": "code",
   "execution_count": 6,
   "id": "655b0377",
   "metadata": {},
   "outputs": [
    {
     "data": {
      "text/html": [
       "<div>\n",
       "<style scoped>\n",
       "    .dataframe tbody tr th:only-of-type {\n",
       "        vertical-align: middle;\n",
       "    }\n",
       "\n",
       "    .dataframe tbody tr th {\n",
       "        vertical-align: top;\n",
       "    }\n",
       "\n",
       "    .dataframe thead th {\n",
       "        text-align: right;\n",
       "    }\n",
       "</style>\n",
       "<table border=\"1\" class=\"dataframe\">\n",
       "  <thead>\n",
       "    <tr style=\"text-align: right;\">\n",
       "      <th></th>\n",
       "      <th></th>\n",
       "      <th>x</th>\n",
       "      <th>y</th>\n",
       "    </tr>\n",
       "    <tr>\n",
       "      <th>group</th>\n",
       "      <th></th>\n",
       "      <th></th>\n",
       "      <th></th>\n",
       "    </tr>\n",
       "  </thead>\n",
       "  <tbody>\n",
       "    <tr>\n",
       "      <th rowspan=\"2\" valign=\"top\">1</th>\n",
       "      <th>x</th>\n",
       "      <td>1.000000</td>\n",
       "      <td>0.816421</td>\n",
       "    </tr>\n",
       "    <tr>\n",
       "      <th>y</th>\n",
       "      <td>0.816421</td>\n",
       "      <td>1.000000</td>\n",
       "    </tr>\n",
       "    <tr>\n",
       "      <th rowspan=\"2\" valign=\"top\">2</th>\n",
       "      <th>x</th>\n",
       "      <td>1.000000</td>\n",
       "      <td>0.816237</td>\n",
       "    </tr>\n",
       "    <tr>\n",
       "      <th>y</th>\n",
       "      <td>0.816237</td>\n",
       "      <td>1.000000</td>\n",
       "    </tr>\n",
       "    <tr>\n",
       "      <th rowspan=\"2\" valign=\"top\">3</th>\n",
       "      <th>x</th>\n",
       "      <td>1.000000</td>\n",
       "      <td>0.816287</td>\n",
       "    </tr>\n",
       "    <tr>\n",
       "      <th>y</th>\n",
       "      <td>0.816287</td>\n",
       "      <td>1.000000</td>\n",
       "    </tr>\n",
       "    <tr>\n",
       "      <th rowspan=\"2\" valign=\"top\">4</th>\n",
       "      <th>x</th>\n",
       "      <td>1.000000</td>\n",
       "      <td>0.816521</td>\n",
       "    </tr>\n",
       "    <tr>\n",
       "      <th>y</th>\n",
       "      <td>0.816521</td>\n",
       "      <td>1.000000</td>\n",
       "    </tr>\n",
       "  </tbody>\n",
       "</table>\n",
       "</div>"
      ],
      "text/plain": [
       "                x         y\n",
       "group                      \n",
       "1     x  1.000000  0.816421\n",
       "      y  0.816421  1.000000\n",
       "2     x  1.000000  0.816237\n",
       "      y  0.816237  1.000000\n",
       "3     x  1.000000  0.816287\n",
       "      y  0.816287  1.000000\n",
       "4     x  1.000000  0.816521\n",
       "      y  0.816521  1.000000"
      ]
     },
     "execution_count": 6,
     "metadata": {},
     "output_type": "execute_result"
    }
   ],
   "source": [
    "df_anscombe.groupby('group').corr()"
   ]
  },
  {
   "cell_type": "markdown",
   "id": "facfef83",
   "metadata": {},
   "source": [
    "As observed, the correlation between `x` and `y` is identical within each group up to three decimal places. Moreover, the high correlation coefficient values suggest a strong linear correlation between `x` and `y` within each group.\n",
    "\n",
    "Despite the similarities in the statistical measures for the groups, it is still necessary to visualize the data to get a better understanding of the differences, if any."
   ]
  },
  {
   "cell_type": "code",
   "execution_count": 7,
   "id": "ba869efd",
   "metadata": {},
   "outputs": [
    {
     "data": {
      "application/vnd.jupyter.widget-view+json": {
       "model_id": "39d767782fa346399e37030a861edd5e",
       "version_major": 2,
       "version_minor": 0
      },
      "image/png": "[encoded data removed]",
      "text/html": [
       "\n",
       "            <div style=\"display: inline-block;\">\n",
       "                <div class=\"jupyter-widgets widget-label\" style=\"text-align: center;\">\n",
       "                    Figure\n",
       "                </div>\n",
       "                <img src='data:image/png;base64,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' width=800.0/>\n",
       "            </div>\n",
       "        "
      ],
      "text/plain": [
       "Canvas(toolbar=Toolbar(toolitems=[('Home', 'Reset original view', 'home', 'home'), ('Back', 'Back to previous …"
      ]
     },
     "metadata": {},
     "output_type": "display_data"
    }
   ],
   "source": [
    "utils.plot_anscombes_quartet()"
   ]
  },
  {
   "cell_type": "markdown",
   "id": "af7aa0f3",
   "metadata": {},
   "source": [
    "Upon visualizing the data, the four groups appear to be quite distinct:\n",
    "\n",
    "1. The first group shows a clear linear relationship between `x` and `y`.\n",
    "2. The second group, on the other hand, exhibits a non-linear pattern, indicating that the usual Pearson correlation may not be appropriate to describe the dataset.\n",
    "3. The third group would be linear if it were not for a single outlier.\n",
    "4. The fourth group demonstrates that `y` can have different values for the same `x`, suggesting that there is no clear relationship between `x` and `y`. However, there is also an outlier in this group.\n",
    "\n",
    "These four groups illustrate that summary statistics alone are not sufficient for investigating data. Visualizing the data, analyzing possible outliers, and identifying more complex relationships are essential to gain a better understanding of the underlying patterns in the data."
   ]
  },
  {
   "cell_type": "markdown",
   "id": "4d829a1f",
   "metadata": {},
   "source": [
    "# 2 - Second data set - Datasaurus Dozen\n",
    "\n",
    "The creation of Anscombe's quartet inspired other authors to generate datasets that have different relationships among its points but share the same summary statistics. One such dataset is the Datasaurus Dozen, which was created by AutoDesk. \n",
    "\n",
    "In this case, you will take a different approach. Instead of analyzing summary statistics and then plotting the data points, you will compare two datasets from the dozen and compute their statistics."
   ]
  },
  {
   "cell_type": "code",
   "execution_count": 8,
   "id": "76d174b1",
   "metadata": {},
   "outputs": [],
   "source": [
    "df_datasaurus = pd.read_csv(\"datasaurus.csv\")"
   ]
  },
  {
   "cell_type": "markdown",
   "id": "f0aaf119",
   "metadata": {},
   "source": [
    "The next cell will run a widget where you can investigate this dataset, which has different groups in it."
   ]
  },
  {
   "cell_type": "code",
   "execution_count": 9,
   "id": "cc2eb2cc",
   "metadata": {},
   "outputs": [
    {
     "data": {
      "application/vnd.jupyter.widget-view+json": {
       "model_id": "7433eb7d598444b8aeee8f96e7e911a8",
       "version_major": 2,
       "version_minor": 0
      },
      "text/plain": [
       "VBox(children=(HBox(children=(Dropdown(description='Data set 1: ', options=('dino', 'away', 'h_lines', 'v_line…"
      ]
     },
     "metadata": {},
     "output_type": "display_data"
    },
    {
     "data": {
      "application/vnd.jupyter.widget-view+json": {
       "model_id": "c4051ad71ca64786ada3ffc5c7c1ba67",
       "version_major": 2,
       "version_minor": 0
      },
      "image/png": "[encoded data removed]",
      "text/html": [
       "\n",
       "            <div style=\"display: inline-block;\">\n",
       "                <div class=\"jupyter-widgets widget-label\" style=\"text-align: center;\">\n",
       "                    Figure\n",
       "                </div>\n",
       "                <img src='data:image/png;base64,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' width=800.0/>\n",
       "            </div>\n",
       "        "
      ],
      "text/plain": [
       "Canvas(toolbar=Toolbar(toolitems=[('Home', 'Reset original view', 'home', 'home'), ('Back', 'Back to previous …"
      ]
     },
     "metadata": {},
     "output_type": "display_data"
    }
   ],
   "source": [
    "utils.display_widget()"
   ]
  },
  {
   "cell_type": "markdown",
   "id": "37513ad2",
   "metadata": {},
   "source": [
    "As you have observed, the first dataset was not an anomaly; it is possible to have different datasets with the same summary statistics. Hence, it is essential to keep in mind while analyzing data that the summary statistics alone may not provide a complete picture of the underlying patterns and relationships."
   ]
  },
  {
   "cell_type": "markdown",
   "id": "941c9278",
   "metadata": {},
   "source": [
    "Congratulations! You have completed this ungraded lab and now understand that summary statistics may not capture all the necessary information to describe your data accurately. Keep in mind that visualizations and more in-depth analyses are often needed to get a better understanding of your data."
   ]
  }
 ],
 "metadata": {
  "kernelspec": {
   "display_name": "Python 3 (ipykernel)",
   "language": "python",
   "name": "python3"
  },
  "language_info": {
   "codemirror_mode": {
    "name": "ipython",
    "version": 3
   },
   "file_extension": ".py",
   "mimetype": "text/x-python",
   "name": "python",
   "nbconvert_exporter": "python",
   "pygments_lexer": "ipython3",
   "version": "3.10.11"
  }
 },
 "nbformat": 4,
 "nbformat_minor": 5
}
