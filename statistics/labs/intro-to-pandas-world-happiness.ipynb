{
 "cells": [
  {
   "cell_type": "markdown",
   "metadata": {},
   "source": [
    "# Exploratory Data Analysis - Intro to Pandas\n",
    "Welcome to the Pandas tutorial lab. This is the first notebook of the exploratory data analysis (EDA) series, where you will get your hands dirty applying the skills you have learned in the course on an actual data problem, similar to those you might encouter in real life! Here you will see and try out some basics of Pandas and get familiar with some of the useful functions that you will use across the other labs and assignments. If you already know Pandas well, feel free to skip this notebook.\n",
    "\n",
    "For the demonstration purposes you will use the [World Happiness Report](https://worldhappiness.report/) dataset. The dataset consists of 2199 rows, where each row contains various hapiness-related metrics for a certain country in a given year. Right now you'll just use this dataset to understand some fundamental operations in Pandas. You will see this dataset again later in week 3, where you will dig deeper into the data and explore relationships to better understand which factors seem to best predict happiness.\n",
    "\n",
    "This notebook is not a comprehensive guide to Pandas, but rather shows and explains the functions you will use through this course. For a more comprehensive guide on Pandas, please see the [official tutorial](https://pandas.pydata.org/pandas-docs/stable/user_guide/10min.html) or check the documentation."
   ]
  },
  {
   "cell_type": "markdown",
   "metadata": {},
   "source": [
    "# 1. Importing the Libraries\n",
    "The most important library you will need in this notebook is - you guessed it - `Pandas`. You will also use the `Seaborn` library for plotting the data. To import the libraries run the cell below."
   ]
  },
  {
   "cell_type": "code",
   "execution_count": null,
   "metadata": {
    "id": "YggLs5VT3WDx"
   },
   "outputs": [],
   "source": [
    "# Import the Pandas library\n",
    "import pandas as pd\n",
    "# Import the Seaborn library for plotting\n",
    "#!pip install seaborn\n",
    "import seaborn as sns"
   ]
  },
  {
   "cell_type": "markdown",
   "metadata": {
    "id": "wLjV9WaBqJxz"
   },
   "source": [
    "# 2. Importing the Data\n",
    "Now that you have the pandas library imported, you'll need to load your dataset. The dataset you will use is saved as a `.csv` file and all you need to do to load is call the function `pd.read_csv(filename)`. If you have your data in another format, there exists a variety of functions to load it, you can check the documentation [here](https://pandas.pydata.org/pandas-docs/stable/reference/io.html).\n",
    "When you load the dataset, it will be stored as a `DataFrame` type (see the documentation [here](https://pandas.pydata.org/pandas-docs/stable/reference/frame.html)). This is the most commonly used Pandas datastructure that you will use throughout this and other notebooks."
   ]
  },
  {
   "cell_type": "code",
   "execution_count": 2,
   "metadata": {},
   "outputs": [],
   "source": [
    "# Load the dataset and save it to the df variable\n",
    "df = pd.read_csv('data/world_happiness.csv')"
   ]
  },
  {
   "cell_type": "markdown",
   "metadata": {
    "id": "m8b-MRpmqer-"
   },
   "source": [
    "# 3. Basic Operations With a Dataframe\n",
    "\n",
    "## 3.1 View the Dataframe\n",
    "You can use `DataFrame.head()` and `DataFrame.tail()` to view the first or last rows of the frame respectively. By default it will show you five rows, but you can specify the number of rows you want to see as a parameter. Technically, neither of the functions actually display anything, but just return a new dataframe. The dataframe is displayed because Jupyter notebooks show the output of the last row in the cell. You can also display the contents of your dataframe by simply writing `df`. If your dataframe is too long, it will then display only the first and the last few rows.\n",
    "\n",
    "Note that all of this only works if you use it in the last line of code in the cell, because the cells automatically display the output of the last line. If you want to see more than one dataframe by running a single cell or if you want to perform some other tasks after displaying the dataframe, then you better encapsulate it with `print()` or `display()`. `display()` function will print the dataframe, but with the same format as just calling `df`, whereas `print()` will print as plain text. \n",
    "\n",
    "Try commenting and uncommenting lines below, to see how this plays out. Try different combiations of rows."
   ]
  },
  {
   "cell_type": "code",
   "execution_count": 5,
   "metadata": {
    "colab": {
     "base_uri": "https://localhost:8080/",
     "height": 206
    },
    "executionInfo": {
     "elapsed": 291,
     "status": "ok",
     "timestamp": 1704224472471,
     "user": {
      "displayName": "Jan Ravnik",
      "userId": "05926525048765143323"
     },
     "user_tz": -60
    },
    "id": "2y664T9_qiuR",
    "outputId": "cccc74cf-602a-4f8e-9ded-5bcb94675873"
   },
   "outputs": [
    {
     "data": {
      "text/html": [
       "<div>\n",
       "<style scoped>\n",
       "    .dataframe tbody tr th:only-of-type {\n",
       "        vertical-align: middle;\n",
       "    }\n",
       "\n",
       "    .dataframe tbody tr th {\n",
       "        vertical-align: top;\n",
       "    }\n",
       "\n",
       "    .dataframe thead th {\n",
       "        text-align: right;\n",
       "    }\n",
       "</style>\n",
       "<table border=\"1\" class=\"dataframe\">\n",
       "  <thead>\n",
       "    <tr style=\"text-align: right;\">\n",
       "      <th></th>\n",
       "      <th>Country name</th>\n",
       "      <th>year</th>\n",
       "      <th>Life Ladder</th>\n",
       "      <th>Log GDP per capita</th>\n",
       "      <th>Social support</th>\n",
       "      <th>Healthy life expectancy at birth</th>\n",
       "      <th>Freedom to make life choices</th>\n",
       "      <th>Generosity</th>\n",
       "      <th>Perceptions of corruption</th>\n",
       "      <th>Positive affect</th>\n",
       "      <th>Negative affect</th>\n",
       "    </tr>\n",
       "  </thead>\n",
       "  <tbody>\n",
       "    <tr>\n",
       "      <th>0</th>\n",
       "      <td>Afghanistan</td>\n",
       "      <td>2008</td>\n",
       "      <td>3.724</td>\n",
       "      <td>7.350</td>\n",
       "      <td>0.451</td>\n",
       "      <td>50.5</td>\n",
       "      <td>0.718</td>\n",
       "      <td>0.168</td>\n",
       "      <td>0.882</td>\n",
       "      <td>0.414</td>\n",
       "      <td>0.258</td>\n",
       "    </tr>\n",
       "    <tr>\n",
       "      <th>1</th>\n",
       "      <td>Afghanistan</td>\n",
       "      <td>2009</td>\n",
       "      <td>4.402</td>\n",
       "      <td>7.509</td>\n",
       "      <td>0.552</td>\n",
       "      <td>50.8</td>\n",
       "      <td>0.679</td>\n",
       "      <td>0.191</td>\n",
       "      <td>0.850</td>\n",
       "      <td>0.481</td>\n",
       "      <td>0.237</td>\n",
       "    </tr>\n",
       "    <tr>\n",
       "      <th>2</th>\n",
       "      <td>Afghanistan</td>\n",
       "      <td>2010</td>\n",
       "      <td>4.758</td>\n",
       "      <td>7.614</td>\n",
       "      <td>0.539</td>\n",
       "      <td>51.1</td>\n",
       "      <td>0.600</td>\n",
       "      <td>0.121</td>\n",
       "      <td>0.707</td>\n",
       "      <td>0.517</td>\n",
       "      <td>0.275</td>\n",
       "    </tr>\n",
       "    <tr>\n",
       "      <th>3</th>\n",
       "      <td>Afghanistan</td>\n",
       "      <td>2011</td>\n",
       "      <td>3.832</td>\n",
       "      <td>7.581</td>\n",
       "      <td>0.521</td>\n",
       "      <td>51.4</td>\n",
       "      <td>0.496</td>\n",
       "      <td>0.164</td>\n",
       "      <td>0.731</td>\n",
       "      <td>0.480</td>\n",
       "      <td>0.267</td>\n",
       "    </tr>\n",
       "    <tr>\n",
       "      <th>4</th>\n",
       "      <td>Afghanistan</td>\n",
       "      <td>2012</td>\n",
       "      <td>3.783</td>\n",
       "      <td>7.661</td>\n",
       "      <td>0.521</td>\n",
       "      <td>51.7</td>\n",
       "      <td>0.531</td>\n",
       "      <td>0.238</td>\n",
       "      <td>0.776</td>\n",
       "      <td>0.614</td>\n",
       "      <td>0.268</td>\n",
       "    </tr>\n",
       "  </tbody>\n",
       "</table>\n",
       "</div>"
      ],
      "text/plain": [
       "  Country name  year  Life Ladder  Log GDP per capita  Social support  \\\n",
       "0  Afghanistan  2008        3.724               7.350           0.451   \n",
       "1  Afghanistan  2009        4.402               7.509           0.552   \n",
       "2  Afghanistan  2010        4.758               7.614           0.539   \n",
       "3  Afghanistan  2011        3.832               7.581           0.521   \n",
       "4  Afghanistan  2012        3.783               7.661           0.521   \n",
       "\n",
       "   Healthy life expectancy at birth  Freedom to make life choices  Generosity  \\\n",
       "0                              50.5                         0.718       0.168   \n",
       "1                              50.8                         0.679       0.191   \n",
       "2                              51.1                         0.600       0.121   \n",
       "3                              51.4                         0.496       0.164   \n",
       "4                              51.7                         0.531       0.238   \n",
       "\n",
       "   Perceptions of corruption  Positive affect  Negative affect  \n",
       "0                      0.882            0.414            0.258  \n",
       "1                      0.850            0.481            0.237  \n",
       "2                      0.707            0.517            0.275  \n",
       "3                      0.731            0.480            0.267  \n",
       "4                      0.776            0.614            0.268  "
      ]
     },
     "execution_count": 5,
     "metadata": {},
     "output_type": "execute_result"
    }
   ],
   "source": [
    "# This line will display the first few rows of the dataframe if there are no lines of code after.\n",
    "df.head()\n",
    "\n",
    "# Try uncommenting different combinations of the lines below.\n",
    "# print(\"Cats are cool.\")\n",
    "# print(df.head())\n",
    "# print(df)\n",
    "# print(\"Some more text about cats being cool.\")\n",
    "# display(df)"
   ]
  },
  {
   "cell_type": "markdown",
   "metadata": {},
   "source": [
    "Now display the last few rows of the dataframe. Pay attention to the additional parameter that specifies the number of rows."
   ]
  },
  {
   "cell_type": "code",
   "execution_count": 6,
   "metadata": {
    "colab": {
     "base_uri": "https://localhost:8080/",
     "height": 112
    },
    "executionInfo": {
     "elapsed": 8,
     "status": "ok",
     "timestamp": 1704224472471,
     "user": {
      "displayName": "Jan Ravnik",
      "userId": "05926525048765143323"
     },
     "user_tz": -60
    },
    "id": "9Cje668KsGyY",
    "outputId": "ab3c73d9-f65c-4f96-e9eb-d9e6f3c7e29a"
   },
   "outputs": [
    {
     "data": {
      "text/html": [
       "<div>\n",
       "<style scoped>\n",
       "    .dataframe tbody tr th:only-of-type {\n",
       "        vertical-align: middle;\n",
       "    }\n",
       "\n",
       "    .dataframe tbody tr th {\n",
       "        vertical-align: top;\n",
       "    }\n",
       "\n",
       "    .dataframe thead th {\n",
       "        text-align: right;\n",
       "    }\n",
       "</style>\n",
       "<table border=\"1\" class=\"dataframe\">\n",
       "  <thead>\n",
       "    <tr style=\"text-align: right;\">\n",
       "      <th></th>\n",
       "      <th>Country name</th>\n",
       "      <th>year</th>\n",
       "      <th>Life Ladder</th>\n",
       "      <th>Log GDP per capita</th>\n",
       "      <th>Social support</th>\n",
       "      <th>Healthy life expectancy at birth</th>\n",
       "      <th>Freedom to make life choices</th>\n",
       "      <th>Generosity</th>\n",
       "      <th>Perceptions of corruption</th>\n",
       "      <th>Positive affect</th>\n",
       "      <th>Negative affect</th>\n",
       "    </tr>\n",
       "  </thead>\n",
       "  <tbody>\n",
       "    <tr>\n",
       "      <th>2197</th>\n",
       "      <td>Zimbabwe</td>\n",
       "      <td>2021</td>\n",
       "      <td>3.155</td>\n",
       "      <td>7.657</td>\n",
       "      <td>0.685</td>\n",
       "      <td>54.050</td>\n",
       "      <td>0.668</td>\n",
       "      <td>-0.076</td>\n",
       "      <td>0.757</td>\n",
       "      <td>0.610</td>\n",
       "      <td>0.242</td>\n",
       "    </tr>\n",
       "    <tr>\n",
       "      <th>2198</th>\n",
       "      <td>Zimbabwe</td>\n",
       "      <td>2022</td>\n",
       "      <td>3.296</td>\n",
       "      <td>7.670</td>\n",
       "      <td>0.666</td>\n",
       "      <td>54.525</td>\n",
       "      <td>0.652</td>\n",
       "      <td>-0.070</td>\n",
       "      <td>0.753</td>\n",
       "      <td>0.641</td>\n",
       "      <td>0.191</td>\n",
       "    </tr>\n",
       "  </tbody>\n",
       "</table>\n",
       "</div>"
      ],
      "text/plain": [
       "     Country name  year  Life Ladder  Log GDP per capita  Social support  \\\n",
       "2197     Zimbabwe  2021        3.155               7.657           0.685   \n",
       "2198     Zimbabwe  2022        3.296               7.670           0.666   \n",
       "\n",
       "      Healthy life expectancy at birth  Freedom to make life choices  \\\n",
       "2197                            54.050                         0.668   \n",
       "2198                            54.525                         0.652   \n",
       "\n",
       "      Generosity  Perceptions of corruption  Positive affect  Negative affect  \n",
       "2197      -0.076                      0.757            0.610            0.242  \n",
       "2198      -0.070                      0.753            0.641            0.191  "
      ]
     },
     "execution_count": 6,
     "metadata": {},
     "output_type": "execute_result"
    }
   ],
   "source": [
    "# This line will display only the last two rows of the dataframe.\n",
    "df.tail(2)"
   ]
  },
  {
   "cell_type": "markdown",
   "metadata": {
    "id": "PrfEZ5U4sRPw"
   },
   "source": [
    "## 3.2 Index and Column Names\n",
    "In the `DataFrame`, the data is stored in a two dimensional grid (rows and columns). The rows are indexed and the columns are named. To see the index or the column names, you can use `DataFrame.index` or `DataFrame.columns` respectively."
   ]
  },
  {
   "cell_type": "code",
   "execution_count": 7,
   "metadata": {
    "colab": {
     "base_uri": "https://localhost:8080/"
    },
    "executionInfo": {
     "elapsed": 4,
     "status": "ok",
     "timestamp": 1704224474114,
     "user": {
      "displayName": "Jan Ravnik",
      "userId": "05926525048765143323"
     },
     "user_tz": -60
    },
    "id": "VP20E1-psREU",
    "outputId": "f0c3b96c-4d61-4b35-e9b7-eee6ab469e2f"
   },
   "outputs": [
    {
     "data": {
      "text/plain": [
       "RangeIndex(start=0, stop=2199, step=1)"
      ]
     },
     "execution_count": 7,
     "metadata": {},
     "output_type": "execute_result"
    }
   ],
   "source": [
    "df.index"
   ]
  },
  {
   "cell_type": "markdown",
   "metadata": {},
   "source": [
    "As you can see, the index is a range of numbers between 0 (inclusive) and 2199 (not inclusive).\n",
    "\n",
    "Run the cell below to see the column names."
   ]
  },
  {
   "cell_type": "code",
   "execution_count": 8,
   "metadata": {
    "colab": {
     "base_uri": "https://localhost:8080/"
    },
    "executionInfo": {
     "elapsed": 7,
     "status": "ok",
     "timestamp": 1704224474712,
     "user": {
      "displayName": "Jan Ravnik",
      "userId": "05926525048765143323"
     },
     "user_tz": -60
    },
    "id": "CiFjCth5shXe",
    "outputId": "281d0111-5ace-421b-86ae-0a3a953142a0"
   },
   "outputs": [
    {
     "data": {
      "text/plain": [
       "Index(['Country name', 'year', 'Life Ladder', 'Log GDP per capita',\n",
       "       'Social support', 'Healthy life expectancy at birth',\n",
       "       'Freedom to make life choices', 'Generosity',\n",
       "       'Perceptions of corruption', 'Positive affect', 'Negative affect'],\n",
       "      dtype='object')"
      ]
     },
     "execution_count": 8,
     "metadata": {},
     "output_type": "execute_result"
    }
   ],
   "source": [
    "df.columns"
   ]
  },
  {
   "cell_type": "markdown",
   "metadata": {},
   "source": [
    "The column names are saved as strings. As you can see, they can include spaces. This can lead to difficulties when accessing the columns (you will see this very soon), so it is a good idea to rename them to get rid of the spaces. A common practice is to replace them with underscores. To rename the columns, you can use `DataFrame.rename()` and pass the columns you want to rename in a dictionary.\n",
    "\n",
    "In the next example, you will see how you can automatically replace all spaces with underscores"
   ]
  },
  {
   "cell_type": "code",
   "execution_count": 10,
   "metadata": {},
   "outputs": [
    {
     "data": {
      "text/html": [
       "<div>\n",
       "<style scoped>\n",
       "    .dataframe tbody tr th:only-of-type {\n",
       "        vertical-align: middle;\n",
       "    }\n",
       "\n",
       "    .dataframe tbody tr th {\n",
       "        vertical-align: top;\n",
       "    }\n",
       "\n",
       "    .dataframe thead th {\n",
       "        text-align: right;\n",
       "    }\n",
       "</style>\n",
       "<table border=\"1\" class=\"dataframe\">\n",
       "  <thead>\n",
       "    <tr style=\"text-align: right;\">\n",
       "      <th></th>\n",
       "      <th>country_name</th>\n",
       "      <th>year</th>\n",
       "      <th>life_ladder</th>\n",
       "      <th>log_gdp_per_capita</th>\n",
       "      <th>social_support</th>\n",
       "      <th>healthy_life_expectancy_at_birth</th>\n",
       "      <th>freedom_to_make_life_choices</th>\n",
       "      <th>generosity</th>\n",
       "      <th>perceptions_of_corruption</th>\n",
       "      <th>positive_affect</th>\n",
       "      <th>negative_affect</th>\n",
       "    </tr>\n",
       "  </thead>\n",
       "  <tbody>\n",
       "    <tr>\n",
       "      <th>0</th>\n",
       "      <td>Afghanistan</td>\n",
       "      <td>2008</td>\n",
       "      <td>3.724</td>\n",
       "      <td>7.350</td>\n",
       "      <td>0.451</td>\n",
       "      <td>50.5</td>\n",
       "      <td>0.718</td>\n",
       "      <td>0.168</td>\n",
       "      <td>0.882</td>\n",
       "      <td>0.414</td>\n",
       "      <td>0.258</td>\n",
       "    </tr>\n",
       "    <tr>\n",
       "      <th>1</th>\n",
       "      <td>Afghanistan</td>\n",
       "      <td>2009</td>\n",
       "      <td>4.402</td>\n",
       "      <td>7.509</td>\n",
       "      <td>0.552</td>\n",
       "      <td>50.8</td>\n",
       "      <td>0.679</td>\n",
       "      <td>0.191</td>\n",
       "      <td>0.850</td>\n",
       "      <td>0.481</td>\n",
       "      <td>0.237</td>\n",
       "    </tr>\n",
       "    <tr>\n",
       "      <th>2</th>\n",
       "      <td>Afghanistan</td>\n",
       "      <td>2010</td>\n",
       "      <td>4.758</td>\n",
       "      <td>7.614</td>\n",
       "      <td>0.539</td>\n",
       "      <td>51.1</td>\n",
       "      <td>0.600</td>\n",
       "      <td>0.121</td>\n",
       "      <td>0.707</td>\n",
       "      <td>0.517</td>\n",
       "      <td>0.275</td>\n",
       "    </tr>\n",
       "    <tr>\n",
       "      <th>3</th>\n",
       "      <td>Afghanistan</td>\n",
       "      <td>2011</td>\n",
       "      <td>3.832</td>\n",
       "      <td>7.581</td>\n",
       "      <td>0.521</td>\n",
       "      <td>51.4</td>\n",
       "      <td>0.496</td>\n",
       "      <td>0.164</td>\n",
       "      <td>0.731</td>\n",
       "      <td>0.480</td>\n",
       "      <td>0.267</td>\n",
       "    </tr>\n",
       "    <tr>\n",
       "      <th>4</th>\n",
       "      <td>Afghanistan</td>\n",
       "      <td>2012</td>\n",
       "      <td>3.783</td>\n",
       "      <td>7.661</td>\n",
       "      <td>0.521</td>\n",
       "      <td>51.7</td>\n",
       "      <td>0.531</td>\n",
       "      <td>0.238</td>\n",
       "      <td>0.776</td>\n",
       "      <td>0.614</td>\n",
       "      <td>0.268</td>\n",
       "    </tr>\n",
       "  </tbody>\n",
       "</table>\n",
       "</div>"
      ],
      "text/plain": [
       "  country_name  year  life_ladder  log_gdp_per_capita  social_support  \\\n",
       "0  Afghanistan  2008        3.724               7.350           0.451   \n",
       "1  Afghanistan  2009        4.402               7.509           0.552   \n",
       "2  Afghanistan  2010        4.758               7.614           0.539   \n",
       "3  Afghanistan  2011        3.832               7.581           0.521   \n",
       "4  Afghanistan  2012        3.783               7.661           0.521   \n",
       "\n",
       "   healthy_life_expectancy_at_birth  freedom_to_make_life_choices  generosity  \\\n",
       "0                              50.5                         0.718       0.168   \n",
       "1                              50.8                         0.679       0.191   \n",
       "2                              51.1                         0.600       0.121   \n",
       "3                              51.4                         0.496       0.164   \n",
       "4                              51.7                         0.531       0.238   \n",
       "\n",
       "   perceptions_of_corruption  positive_affect  negative_affect  \n",
       "0                      0.882            0.414            0.258  \n",
       "1                      0.850            0.481            0.237  \n",
       "2                      0.707            0.517            0.275  \n",
       "3                      0.731            0.480            0.267  \n",
       "4                      0.776            0.614            0.268  "
      ]
     },
     "execution_count": 10,
     "metadata": {},
     "output_type": "execute_result"
    }
   ],
   "source": [
    "# A dictionary mapping old column names to new column names. In addition to replacing spaces\n",
    "# with underscores, you will make all of the text lowercase.\n",
    "columns_to_rename = {i: \"_\".join(i.split(\" \")).lower() for i in df.columns}\n",
    "# Note that this dictionary is created automatically from the column names.\n",
    "# You can also create it by hand and rename only the columns you want to rename\n",
    "# For example, see the commented line below:\n",
    "# columns_to_rename = {\"Country name\": \"country_name\", \"Life Ladder\": \"life_ladder\"}\n",
    "\n",
    "# Rename the columns\n",
    "df = df.rename(columns=columns_to_rename)\n",
    "# Display the new dataframe\n",
    "df.head()"
   ]
  },
  {
   "cell_type": "markdown",
   "metadata": {
    "id": "4f5BnHGxsxBA"
   },
   "source": [
    "## 3.3 Data Types\n",
    "One cool thing about the DataFrame type is that the columns of the resulting DataFrame can have different `dtypes`. This is something you simply can not do with a Numpy array. You can look at them and if needed to you can change them."
   ]
  },
  {
   "cell_type": "code",
   "execution_count": 11,
   "metadata": {
    "colab": {
     "base_uri": "https://localhost:8080/"
    },
    "executionInfo": {
     "elapsed": 295,
     "status": "ok",
     "timestamp": 1704224476401,
     "user": {
      "displayName": "Jan Ravnik",
      "userId": "05926525048765143323"
     },
     "user_tz": -60
    },
    "id": "r8DA5qoXswMJ",
    "outputId": "3e92d194-611d-4d56-b792-a8beca939bd4"
   },
   "outputs": [
    {
     "data": {
      "text/plain": [
       "country_name                         object\n",
       "year                                  int64\n",
       "life_ladder                         float64\n",
       "log_gdp_per_capita                  float64\n",
       "social_support                      float64\n",
       "healthy_life_expectancy_at_birth    float64\n",
       "freedom_to_make_life_choices        float64\n",
       "generosity                          float64\n",
       "perceptions_of_corruption           float64\n",
       "positive_affect                     float64\n",
       "negative_affect                     float64\n",
       "dtype: object"
      ]
     },
     "execution_count": 11,
     "metadata": {},
     "output_type": "execute_result"
    }
   ],
   "source": [
    "df.dtypes"
   ]
  },
  {
   "cell_type": "markdown",
   "metadata": {
    "id": "92UYvWvPtFMR"
   },
   "source": [
    "You can see that the columns above are of different types and if you compare it to how the data actually looks like, it seems that the types are correct. Sometimes if your data is incorrectly formatted, the imported types will be wrong. In this case you will want to change the types of the columns manually before proceeding. Check the code below on how you can do that. Note that nothing will change after running the code below, as the data is already of correct types."
   ]
  },
  {
   "cell_type": "code",
   "execution_count": 12,
   "metadata": {
    "colab": {
     "base_uri": "https://localhost:8080/"
    },
    "executionInfo": {
     "elapsed": 281,
     "status": "ok",
     "timestamp": 1704224478931,
     "user": {
      "displayName": "Jan Ravnik",
      "userId": "05926525048765143323"
     },
     "user_tz": -60
    },
    "id": "LSoPP5D4swBz",
    "outputId": "53c909e6-0842-4687-87f6-464fab73f6cd"
   },
   "outputs": [
    {
     "data": {
      "text/plain": [
       "country_name                         object\n",
       "year                                  int64\n",
       "life_ladder                         float64\n",
       "log_gdp_per_capita                  float64\n",
       "social_support                      float64\n",
       "healthy_life_expectancy_at_birth    float64\n",
       "freedom_to_make_life_choices        float64\n",
       "generosity                          float64\n",
       "perceptions_of_corruption           float64\n",
       "positive_affect                     float64\n",
       "negative_affect                     float64\n",
       "dtype: object"
      ]
     },
     "execution_count": 12,
     "metadata": {},
     "output_type": "execute_result"
    }
   ],
   "source": [
    "# List all of the columns that should be floats\n",
    "float_columns = [i for i in df.columns if i not in  [\"country_name\", \"year\"]]\n",
    "# Change the type of all float columns to float\n",
    "df = df.astype({i: float for i in float_columns})\n",
    "# Show the types of all columns\n",
    "df.dtypes"
   ]
  },
  {
   "cell_type": "markdown",
   "metadata": {},
   "source": [
    "The `df.info()` provides some additional information. In addition to data types it also tells you the number of non-null values per column."
   ]
  },
  {
   "cell_type": "code",
   "execution_count": 13,
   "metadata": {},
   "outputs": [
    {
     "name": "stdout",
     "output_type": "stream",
     "text": [
      "<class 'pandas.core.frame.DataFrame'>\n",
      "RangeIndex: 2199 entries, 0 to 2198\n",
      "Data columns (total 11 columns):\n",
      " #   Column                            Non-Null Count  Dtype  \n",
      "---  ------                            --------------  -----  \n",
      " 0   country_name                      2199 non-null   object \n",
      " 1   year                              2199 non-null   int64  \n",
      " 2   life_ladder                       2199 non-null   float64\n",
      " 3   log_gdp_per_capita                2179 non-null   float64\n",
      " 4   social_support                    2186 non-null   float64\n",
      " 5   healthy_life_expectancy_at_birth  2145 non-null   float64\n",
      " 6   freedom_to_make_life_choices      2166 non-null   float64\n",
      " 7   generosity                        2126 non-null   float64\n",
      " 8   perceptions_of_corruption         2083 non-null   float64\n",
      " 9   positive_affect                   2175 non-null   float64\n",
      " 10  negative_affect                   2183 non-null   float64\n",
      "dtypes: float64(9), int64(1), object(1)\n",
      "memory usage: 189.1+ KB\n"
     ]
    }
   ],
   "source": [
    "df.info()"
   ]
  },
  {
   "cell_type": "markdown",
   "metadata": {
    "id": "MYpy6af0vpjH"
   },
   "source": [
    "## 3.4 Selecting Columns\n",
    "One way of selecting a single column is to use `DataFrame.column_name`. Here you can see why it was a good idea that you renamed the columns to not include any whitespaces. This returns a Pandas `Series`, which is a different datatype from a `DataFrame`. You will see how to return a `DataFrame` a bit later."
   ]
  },
  {
   "cell_type": "code",
   "execution_count": 14,
   "metadata": {
    "colab": {
     "base_uri": "https://localhost:8080/"
    },
    "executionInfo": {
     "elapsed": 11,
     "status": "ok",
     "timestamp": 1704224549778,
     "user": {
      "displayName": "Jan Ravnik",
      "userId": "05926525048765143323"
     },
     "user_tz": -60
    },
    "id": "rc_CqBh5sTeP",
    "outputId": "8ba18f48-ea33-4260-85b4-a828c6344b53"
   },
   "outputs": [
    {
     "name": "stdout",
     "output_type": "stream",
     "text": [
      "type(x):\n",
      " <class 'pandas.core.series.Series'>\n",
      "\n",
      "x:\n",
      "0       3.724\n",
      "1       4.402\n",
      "2       4.758\n",
      "3       3.832\n",
      "4       3.783\n",
      "        ...  \n",
      "2194    3.616\n",
      "2195    2.694\n",
      "2196    3.160\n",
      "2197    3.155\n",
      "2198    3.296\n",
      "Name: life_ladder, Length: 2199, dtype: float64\n"
     ]
    }
   ],
   "source": [
    "# Select the life_ladder column and store it in x\n",
    "x = df.life_ladder\n",
    "\n",
    "print(f\"type(x):\\n {type(x)}\\n\")\n",
    "print(f\"x:\\n{x}\")"
   ]
  },
  {
   "cell_type": "markdown",
   "metadata": {},
   "source": [
    "Another way to do this is to use square brackets and the name of the column in quortes, much as you would do when accessing an entry in a dictionary. As with dictionaries, you can use double quotes or simple quotes. "
   ]
  },
  {
   "cell_type": "code",
   "execution_count": 15,
   "metadata": {
    "colab": {
     "base_uri": "https://localhost:8080/"
    },
    "executionInfo": {
     "elapsed": 5,
     "status": "ok",
     "timestamp": 1704224563853,
     "user": {
      "displayName": "Jan Ravnik",
      "userId": "05926525048765143323"
     },
     "user_tz": -60
    },
    "id": "_tHZ-mfSvpXT",
    "outputId": "50e5f84f-cd4d-458b-f47e-fef00cd84b4b"
   },
   "outputs": [
    {
     "name": "stdout",
     "output_type": "stream",
     "text": [
      "type(x):\n",
      " <class 'pandas.core.series.Series'>\n",
      "\n",
      "x:\n",
      "0       3.724\n",
      "1       4.402\n",
      "2       4.758\n",
      "3       3.832\n",
      "4       3.783\n",
      "        ...  \n",
      "2194    3.616\n",
      "2195    2.694\n",
      "2196    3.160\n",
      "2197    3.155\n",
      "2198    3.296\n",
      "Name: life_ladder, Length: 2199, dtype: float64\n"
     ]
    }
   ],
   "source": [
    "x = df[\"life_ladder\"]\n",
    "\n",
    "print(f\"type(x):\\n {type(x)}\\n\")\n",
    "print(f\"x:\\n{x}\")"
   ]
  },
  {
   "cell_type": "markdown",
   "metadata": {
    "id": "m9RnZAlB1QLZ"
   },
   "source": [
    "Passing a list of labels rather than a single label selects the columns and returns a DataFrame (rather than a Series), with only the selected columns. You can use it to select one or more columns."
   ]
  },
  {
   "cell_type": "code",
   "execution_count": 16,
   "metadata": {
    "colab": {
     "base_uri": "https://localhost:8080/"
    },
    "executionInfo": {
     "elapsed": 7,
     "status": "ok",
     "timestamp": 1704214924343,
     "user": {
      "displayName": "Jan Ravnik",
      "userId": "05926525048765143323"
     },
     "user_tz": -60
    },
    "id": "8Hn5tLJc1P7e",
    "outputId": "a856e2e7-317b-40b1-b217-da67090b13cc"
   },
   "outputs": [
    {
     "name": "stdout",
     "output_type": "stream",
     "text": [
      "type(x):\n",
      " <class 'pandas.core.frame.DataFrame'>\n",
      "\n",
      "x:\n",
      "      life_ladder\n",
      "0           3.724\n",
      "1           4.402\n",
      "2           4.758\n",
      "3           3.832\n",
      "4           3.783\n",
      "...           ...\n",
      "2194        3.616\n",
      "2195        2.694\n",
      "2196        3.160\n",
      "2197        3.155\n",
      "2198        3.296\n",
      "\n",
      "[2199 rows x 1 columns]\n"
     ]
    }
   ],
   "source": [
    "x = df[[\"life_ladder\"]]\n",
    "# x = df[[\"life_ladder\", \"year\"]]\n",
    "\n",
    "print(f\"type(x):\\n {type(x)}\\n\")\n",
    "print(f\"x:\\n{x}\")"
   ]
  },
  {
   "cell_type": "markdown",
   "metadata": {
    "id": "3xpe4eHk175b"
   },
   "source": [
    "## 3.5 Selecting Rows\n",
    "Passing a slice `:` selects matching rows and returns a DataFrame with all columns in your original dataframe."
   ]
  },
  {
   "cell_type": "code",
   "execution_count": 17,
   "metadata": {
    "colab": {
     "base_uri": "https://localhost:8080/",
     "height": 143
    },
    "executionInfo": {
     "elapsed": 11,
     "status": "ok",
     "timestamp": 1704214925193,
     "user": {
      "displayName": "Jan Ravnik",
      "userId": "05926525048765143323"
     },
     "user_tz": -60
    },
    "id": "KfNcrGHU17sw",
    "outputId": "10a749d7-037c-4b8e-c838-a50cf9b63d67"
   },
   "outputs": [
    {
     "data": {
      "text/html": [
       "<div>\n",
       "<style scoped>\n",
       "    .dataframe tbody tr th:only-of-type {\n",
       "        vertical-align: middle;\n",
       "    }\n",
       "\n",
       "    .dataframe tbody tr th {\n",
       "        vertical-align: top;\n",
       "    }\n",
       "\n",
       "    .dataframe thead th {\n",
       "        text-align: right;\n",
       "    }\n",
       "</style>\n",
       "<table border=\"1\" class=\"dataframe\">\n",
       "  <thead>\n",
       "    <tr style=\"text-align: right;\">\n",
       "      <th></th>\n",
       "      <th>country_name</th>\n",
       "      <th>year</th>\n",
       "      <th>life_ladder</th>\n",
       "      <th>log_gdp_per_capita</th>\n",
       "      <th>social_support</th>\n",
       "      <th>healthy_life_expectancy_at_birth</th>\n",
       "      <th>freedom_to_make_life_choices</th>\n",
       "      <th>generosity</th>\n",
       "      <th>perceptions_of_corruption</th>\n",
       "      <th>positive_affect</th>\n",
       "      <th>negative_affect</th>\n",
       "    </tr>\n",
       "  </thead>\n",
       "  <tbody>\n",
       "    <tr>\n",
       "      <th>2</th>\n",
       "      <td>Afghanistan</td>\n",
       "      <td>2010</td>\n",
       "      <td>4.758</td>\n",
       "      <td>7.614</td>\n",
       "      <td>0.539</td>\n",
       "      <td>51.1</td>\n",
       "      <td>0.600</td>\n",
       "      <td>0.121</td>\n",
       "      <td>0.707</td>\n",
       "      <td>0.517</td>\n",
       "      <td>0.275</td>\n",
       "    </tr>\n",
       "    <tr>\n",
       "      <th>3</th>\n",
       "      <td>Afghanistan</td>\n",
       "      <td>2011</td>\n",
       "      <td>3.832</td>\n",
       "      <td>7.581</td>\n",
       "      <td>0.521</td>\n",
       "      <td>51.4</td>\n",
       "      <td>0.496</td>\n",
       "      <td>0.164</td>\n",
       "      <td>0.731</td>\n",
       "      <td>0.480</td>\n",
       "      <td>0.267</td>\n",
       "    </tr>\n",
       "    <tr>\n",
       "      <th>4</th>\n",
       "      <td>Afghanistan</td>\n",
       "      <td>2012</td>\n",
       "      <td>3.783</td>\n",
       "      <td>7.661</td>\n",
       "      <td>0.521</td>\n",
       "      <td>51.7</td>\n",
       "      <td>0.531</td>\n",
       "      <td>0.238</td>\n",
       "      <td>0.776</td>\n",
       "      <td>0.614</td>\n",
       "      <td>0.268</td>\n",
       "    </tr>\n",
       "  </tbody>\n",
       "</table>\n",
       "</div>"
      ],
      "text/plain": [
       "  country_name  year  life_ladder  log_gdp_per_capita  social_support  \\\n",
       "2  Afghanistan  2010        4.758               7.614           0.539   \n",
       "3  Afghanistan  2011        3.832               7.581           0.521   \n",
       "4  Afghanistan  2012        3.783               7.661           0.521   \n",
       "\n",
       "   healthy_life_expectancy_at_birth  freedom_to_make_life_choices  generosity  \\\n",
       "2                              51.1                         0.600       0.121   \n",
       "3                              51.4                         0.496       0.164   \n",
       "4                              51.7                         0.531       0.238   \n",
       "\n",
       "   perceptions_of_corruption  positive_affect  negative_affect  \n",
       "2                      0.707            0.517            0.275  \n",
       "3                      0.731            0.480            0.267  \n",
       "4                      0.776            0.614            0.268  "
      ]
     },
     "execution_count": 17,
     "metadata": {},
     "output_type": "execute_result"
    }
   ],
   "source": [
    "df[2:5]"
   ]
  },
  {
   "cell_type": "markdown",
   "metadata": {
    "id": "X3Wv56ev2XgS"
   },
   "source": [
    "## 3.6 Iterating Over Rows\n",
    "If you want to iterate over the rows, you can use the `.iterrows()` method. For each row it yields a (index, row) tuple, where the row is a `Series` object containing the data. Note that this does not preserve the data types (dtypes) across the rows (dtypes are preserved across columns for DataFrames)."
   ]
  },
  {
   "cell_type": "code",
   "execution_count": 18,
   "metadata": {
    "id": "knOzPX3w2XUr"
   },
   "outputs": [
    {
     "data": {
      "text/plain": [
       "country_name                        Afghanistan\n",
       "year                                       2008\n",
       "life_ladder                               3.724\n",
       "log_gdp_per_capita                         7.35\n",
       "social_support                            0.451\n",
       "healthy_life_expectancy_at_birth           50.5\n",
       "freedom_to_make_life_choices              0.718\n",
       "generosity                                0.168\n",
       "perceptions_of_corruption                 0.882\n",
       "positive_affect                           0.414\n",
       "negative_affect                           0.258\n",
       "Name: 0, dtype: object"
      ]
     },
     "execution_count": 18,
     "metadata": {},
     "output_type": "execute_result"
    }
   ],
   "source": [
    "index, row = next(df.iterrows())\n",
    "row"
   ]
  },
  {
   "cell_type": "markdown",
   "metadata": {
    "id": "877_KMPs3glr"
   },
   "source": [
    "## 3.7 Boolean Indexing\n",
    "Now to the more fun part. If you looked carefully at the dataset that was displayed above, you probably saw that the datapoints are available for different years. What if you are interested only in data from a certain year? Or from a certain country? Or perhaps where a value in a certain column is greater than some predetermined value? You can use boolean indexing.\n",
    "\n",
    "Run the cell below to select rows where the year equals to 2022. Try to uncomment some other row to see what it does."
   ]
  },
  {
   "cell_type": "code",
   "execution_count": 19,
   "metadata": {
    "colab": {
     "base_uri": "https://localhost:8080/",
     "height": 424
    },
    "executionInfo": {
     "elapsed": 8,
     "status": "ok",
     "timestamp": 1704227402981,
     "user": {
      "displayName": "Jan Ravnik",
      "userId": "05926525048765143323"
     },
     "user_tz": -60
    },
    "id": "im-WW9A63gZ-",
    "outputId": "3397562c-7ac1-4a25-9f7a-3e77f060e34a"
   },
   "outputs": [
    {
     "data": {
      "text/html": [
       "<div>\n",
       "<style scoped>\n",
       "    .dataframe tbody tr th:only-of-type {\n",
       "        vertical-align: middle;\n",
       "    }\n",
       "\n",
       "    .dataframe tbody tr th {\n",
       "        vertical-align: top;\n",
       "    }\n",
       "\n",
       "    .dataframe thead th {\n",
       "        text-align: right;\n",
       "    }\n",
       "</style>\n",
       "<table border=\"1\" class=\"dataframe\">\n",
       "  <thead>\n",
       "    <tr style=\"text-align: right;\">\n",
       "      <th></th>\n",
       "      <th>country_name</th>\n",
       "      <th>year</th>\n",
       "      <th>life_ladder</th>\n",
       "      <th>log_gdp_per_capita</th>\n",
       "      <th>social_support</th>\n",
       "      <th>healthy_life_expectancy_at_birth</th>\n",
       "      <th>freedom_to_make_life_choices</th>\n",
       "      <th>generosity</th>\n",
       "      <th>perceptions_of_corruption</th>\n",
       "      <th>positive_affect</th>\n",
       "      <th>negative_affect</th>\n",
       "    </tr>\n",
       "  </thead>\n",
       "  <tbody>\n",
       "    <tr>\n",
       "      <th>13</th>\n",
       "      <td>Afghanistan</td>\n",
       "      <td>2022</td>\n",
       "      <td>1.281</td>\n",
       "      <td>NaN</td>\n",
       "      <td>0.228</td>\n",
       "      <td>54.875</td>\n",
       "      <td>0.368</td>\n",
       "      <td>NaN</td>\n",
       "      <td>0.733</td>\n",
       "      <td>0.206</td>\n",
       "      <td>0.576</td>\n",
       "    </tr>\n",
       "    <tr>\n",
       "      <th>28</th>\n",
       "      <td>Albania</td>\n",
       "      <td>2022</td>\n",
       "      <td>5.212</td>\n",
       "      <td>9.626</td>\n",
       "      <td>0.724</td>\n",
       "      <td>69.175</td>\n",
       "      <td>0.802</td>\n",
       "      <td>-0.066</td>\n",
       "      <td>0.846</td>\n",
       "      <td>0.547</td>\n",
       "      <td>0.255</td>\n",
       "    </tr>\n",
       "    <tr>\n",
       "      <th>59</th>\n",
       "      <td>Argentina</td>\n",
       "      <td>2022</td>\n",
       "      <td>6.261</td>\n",
       "      <td>10.011</td>\n",
       "      <td>0.893</td>\n",
       "      <td>67.250</td>\n",
       "      <td>0.825</td>\n",
       "      <td>-0.128</td>\n",
       "      <td>0.810</td>\n",
       "      <td>0.724</td>\n",
       "      <td>0.284</td>\n",
       "    </tr>\n",
       "    <tr>\n",
       "      <th>75</th>\n",
       "      <td>Armenia</td>\n",
       "      <td>2022</td>\n",
       "      <td>5.382</td>\n",
       "      <td>9.668</td>\n",
       "      <td>0.811</td>\n",
       "      <td>67.925</td>\n",
       "      <td>0.790</td>\n",
       "      <td>-0.154</td>\n",
       "      <td>0.705</td>\n",
       "      <td>0.531</td>\n",
       "      <td>0.549</td>\n",
       "    </tr>\n",
       "    <tr>\n",
       "      <th>91</th>\n",
       "      <td>Australia</td>\n",
       "      <td>2022</td>\n",
       "      <td>7.035</td>\n",
       "      <td>10.854</td>\n",
       "      <td>0.942</td>\n",
       "      <td>71.125</td>\n",
       "      <td>0.854</td>\n",
       "      <td>0.153</td>\n",
       "      <td>0.545</td>\n",
       "      <td>0.711</td>\n",
       "      <td>0.244</td>\n",
       "    </tr>\n",
       "    <tr>\n",
       "      <th>...</th>\n",
       "      <td>...</td>\n",
       "      <td>...</td>\n",
       "      <td>...</td>\n",
       "      <td>...</td>\n",
       "      <td>...</td>\n",
       "      <td>...</td>\n",
       "      <td>...</td>\n",
       "      <td>...</td>\n",
       "      <td>...</td>\n",
       "      <td>...</td>\n",
       "      <td>...</td>\n",
       "    </tr>\n",
       "    <tr>\n",
       "      <th>2104</th>\n",
       "      <td>Uruguay</td>\n",
       "      <td>2022</td>\n",
       "      <td>6.671</td>\n",
       "      <td>10.084</td>\n",
       "      <td>0.905</td>\n",
       "      <td>67.500</td>\n",
       "      <td>0.878</td>\n",
       "      <td>-0.052</td>\n",
       "      <td>0.631</td>\n",
       "      <td>0.775</td>\n",
       "      <td>0.267</td>\n",
       "    </tr>\n",
       "    <tr>\n",
       "      <th>2120</th>\n",
       "      <td>Uzbekistan</td>\n",
       "      <td>2022</td>\n",
       "      <td>6.016</td>\n",
       "      <td>8.990</td>\n",
       "      <td>0.879</td>\n",
       "      <td>65.600</td>\n",
       "      <td>0.959</td>\n",
       "      <td>0.309</td>\n",
       "      <td>0.616</td>\n",
       "      <td>0.741</td>\n",
       "      <td>0.225</td>\n",
       "    </tr>\n",
       "    <tr>\n",
       "      <th>2137</th>\n",
       "      <td>Venezuela</td>\n",
       "      <td>2022</td>\n",
       "      <td>5.949</td>\n",
       "      <td>NaN</td>\n",
       "      <td>0.899</td>\n",
       "      <td>63.875</td>\n",
       "      <td>0.770</td>\n",
       "      <td>NaN</td>\n",
       "      <td>0.798</td>\n",
       "      <td>0.754</td>\n",
       "      <td>0.292</td>\n",
       "    </tr>\n",
       "    <tr>\n",
       "      <th>2154</th>\n",
       "      <td>Vietnam</td>\n",
       "      <td>2022</td>\n",
       "      <td>6.267</td>\n",
       "      <td>9.333</td>\n",
       "      <td>0.879</td>\n",
       "      <td>65.600</td>\n",
       "      <td>0.975</td>\n",
       "      <td>-0.179</td>\n",
       "      <td>0.703</td>\n",
       "      <td>0.774</td>\n",
       "      <td>0.108</td>\n",
       "    </tr>\n",
       "    <tr>\n",
       "      <th>2198</th>\n",
       "      <td>Zimbabwe</td>\n",
       "      <td>2022</td>\n",
       "      <td>3.296</td>\n",
       "      <td>7.670</td>\n",
       "      <td>0.666</td>\n",
       "      <td>54.525</td>\n",
       "      <td>0.652</td>\n",
       "      <td>-0.070</td>\n",
       "      <td>0.753</td>\n",
       "      <td>0.641</td>\n",
       "      <td>0.191</td>\n",
       "    </tr>\n",
       "  </tbody>\n",
       "</table>\n",
       "<p>114 rows × 11 columns</p>\n",
       "</div>"
      ],
      "text/plain": [
       "     country_name  year  life_ladder  log_gdp_per_capita  social_support  \\\n",
       "13    Afghanistan  2022        1.281                 NaN           0.228   \n",
       "28        Albania  2022        5.212               9.626           0.724   \n",
       "59      Argentina  2022        6.261              10.011           0.893   \n",
       "75        Armenia  2022        5.382               9.668           0.811   \n",
       "91      Australia  2022        7.035              10.854           0.942   \n",
       "...           ...   ...          ...                 ...             ...   \n",
       "2104      Uruguay  2022        6.671              10.084           0.905   \n",
       "2120   Uzbekistan  2022        6.016               8.990           0.879   \n",
       "2137    Venezuela  2022        5.949                 NaN           0.899   \n",
       "2154      Vietnam  2022        6.267               9.333           0.879   \n",
       "2198     Zimbabwe  2022        3.296               7.670           0.666   \n",
       "\n",
       "      healthy_life_expectancy_at_birth  freedom_to_make_life_choices  \\\n",
       "13                              54.875                         0.368   \n",
       "28                              69.175                         0.802   \n",
       "59                              67.250                         0.825   \n",
       "75                              67.925                         0.790   \n",
       "91                              71.125                         0.854   \n",
       "...                                ...                           ...   \n",
       "2104                            67.500                         0.878   \n",
       "2120                            65.600                         0.959   \n",
       "2137                            63.875                         0.770   \n",
       "2154                            65.600                         0.975   \n",
       "2198                            54.525                         0.652   \n",
       "\n",
       "      generosity  perceptions_of_corruption  positive_affect  negative_affect  \n",
       "13           NaN                      0.733            0.206            0.576  \n",
       "28        -0.066                      0.846            0.547            0.255  \n",
       "59        -0.128                      0.810            0.724            0.284  \n",
       "75        -0.154                      0.705            0.531            0.549  \n",
       "91         0.153                      0.545            0.711            0.244  \n",
       "...          ...                        ...              ...              ...  \n",
       "2104      -0.052                      0.631            0.775            0.267  \n",
       "2120       0.309                      0.616            0.741            0.225  \n",
       "2137         NaN                      0.798            0.754            0.292  \n",
       "2154      -0.179                      0.703            0.774            0.108  \n",
       "2198      -0.070                      0.753            0.641            0.191  \n",
       "\n",
       "[114 rows x 11 columns]"
      ]
     },
     "execution_count": 19,
     "metadata": {},
     "output_type": "execute_result"
    }
   ],
   "source": [
    "df[df[\"year\"] == 2022]\n",
    "# df[df[\"life_ladder\"] > 5] # Select rows where life_ladder > 5\n",
    "# df[df[\"life_ladder\"] > 11] # This one should return an empty dataframe"
   ]
  },
  {
   "cell_type": "markdown",
   "metadata": {
    "id": "fUQak3T74I65"
   },
   "source": [
    "Note that now that you selected only the certain rows, the index column does not make much sense anymore because you have a lot of gaps. While this is not a problem, in some cases you might want the index to correspond to the actual row number. To achieve this you can use `reset_inex()`. In other cases you might want to keep the index as it is to more easily refer back to the original dataframe. It all depends on the context of your project. Run the cell below to reset the index and take a look at the output."
   ]
  },
  {
   "cell_type": "code",
   "execution_count": 20,
   "metadata": {
    "id": "WE_Aza6t4Q0Q"
   },
   "outputs": [
    {
     "data": {
      "text/html": [
       "<div>\n",
       "<style scoped>\n",
       "    .dataframe tbody tr th:only-of-type {\n",
       "        vertical-align: middle;\n",
       "    }\n",
       "\n",
       "    .dataframe tbody tr th {\n",
       "        vertical-align: top;\n",
       "    }\n",
       "\n",
       "    .dataframe thead th {\n",
       "        text-align: right;\n",
       "    }\n",
       "</style>\n",
       "<table border=\"1\" class=\"dataframe\">\n",
       "  <thead>\n",
       "    <tr style=\"text-align: right;\">\n",
       "      <th></th>\n",
       "      <th>country_name</th>\n",
       "      <th>year</th>\n",
       "      <th>life_ladder</th>\n",
       "      <th>log_gdp_per_capita</th>\n",
       "      <th>social_support</th>\n",
       "      <th>healthy_life_expectancy_at_birth</th>\n",
       "      <th>freedom_to_make_life_choices</th>\n",
       "      <th>generosity</th>\n",
       "      <th>perceptions_of_corruption</th>\n",
       "      <th>positive_affect</th>\n",
       "      <th>negative_affect</th>\n",
       "    </tr>\n",
       "  </thead>\n",
       "  <tbody>\n",
       "    <tr>\n",
       "      <th>0</th>\n",
       "      <td>Afghanistan</td>\n",
       "      <td>2022</td>\n",
       "      <td>1.281</td>\n",
       "      <td>NaN</td>\n",
       "      <td>0.228</td>\n",
       "      <td>54.875</td>\n",
       "      <td>0.368</td>\n",
       "      <td>NaN</td>\n",
       "      <td>0.733</td>\n",
       "      <td>0.206</td>\n",
       "      <td>0.576</td>\n",
       "    </tr>\n",
       "    <tr>\n",
       "      <th>1</th>\n",
       "      <td>Albania</td>\n",
       "      <td>2022</td>\n",
       "      <td>5.212</td>\n",
       "      <td>9.626</td>\n",
       "      <td>0.724</td>\n",
       "      <td>69.175</td>\n",
       "      <td>0.802</td>\n",
       "      <td>-0.066</td>\n",
       "      <td>0.846</td>\n",
       "      <td>0.547</td>\n",
       "      <td>0.255</td>\n",
       "    </tr>\n",
       "    <tr>\n",
       "      <th>2</th>\n",
       "      <td>Argentina</td>\n",
       "      <td>2022</td>\n",
       "      <td>6.261</td>\n",
       "      <td>10.011</td>\n",
       "      <td>0.893</td>\n",
       "      <td>67.250</td>\n",
       "      <td>0.825</td>\n",
       "      <td>-0.128</td>\n",
       "      <td>0.810</td>\n",
       "      <td>0.724</td>\n",
       "      <td>0.284</td>\n",
       "    </tr>\n",
       "    <tr>\n",
       "      <th>3</th>\n",
       "      <td>Armenia</td>\n",
       "      <td>2022</td>\n",
       "      <td>5.382</td>\n",
       "      <td>9.668</td>\n",
       "      <td>0.811</td>\n",
       "      <td>67.925</td>\n",
       "      <td>0.790</td>\n",
       "      <td>-0.154</td>\n",
       "      <td>0.705</td>\n",
       "      <td>0.531</td>\n",
       "      <td>0.549</td>\n",
       "    </tr>\n",
       "    <tr>\n",
       "      <th>4</th>\n",
       "      <td>Australia</td>\n",
       "      <td>2022</td>\n",
       "      <td>7.035</td>\n",
       "      <td>10.854</td>\n",
       "      <td>0.942</td>\n",
       "      <td>71.125</td>\n",
       "      <td>0.854</td>\n",
       "      <td>0.153</td>\n",
       "      <td>0.545</td>\n",
       "      <td>0.711</td>\n",
       "      <td>0.244</td>\n",
       "    </tr>\n",
       "    <tr>\n",
       "      <th>...</th>\n",
       "      <td>...</td>\n",
       "      <td>...</td>\n",
       "      <td>...</td>\n",
       "      <td>...</td>\n",
       "      <td>...</td>\n",
       "      <td>...</td>\n",
       "      <td>...</td>\n",
       "      <td>...</td>\n",
       "      <td>...</td>\n",
       "      <td>...</td>\n",
       "      <td>...</td>\n",
       "    </tr>\n",
       "    <tr>\n",
       "      <th>109</th>\n",
       "      <td>Uruguay</td>\n",
       "      <td>2022</td>\n",
       "      <td>6.671</td>\n",
       "      <td>10.084</td>\n",
       "      <td>0.905</td>\n",
       "      <td>67.500</td>\n",
       "      <td>0.878</td>\n",
       "      <td>-0.052</td>\n",
       "      <td>0.631</td>\n",
       "      <td>0.775</td>\n",
       "      <td>0.267</td>\n",
       "    </tr>\n",
       "    <tr>\n",
       "      <th>110</th>\n",
       "      <td>Uzbekistan</td>\n",
       "      <td>2022</td>\n",
       "      <td>6.016</td>\n",
       "      <td>8.990</td>\n",
       "      <td>0.879</td>\n",
       "      <td>65.600</td>\n",
       "      <td>0.959</td>\n",
       "      <td>0.309</td>\n",
       "      <td>0.616</td>\n",
       "      <td>0.741</td>\n",
       "      <td>0.225</td>\n",
       "    </tr>\n",
       "    <tr>\n",
       "      <th>111</th>\n",
       "      <td>Venezuela</td>\n",
       "      <td>2022</td>\n",
       "      <td>5.949</td>\n",
       "      <td>NaN</td>\n",
       "      <td>0.899</td>\n",
       "      <td>63.875</td>\n",
       "      <td>0.770</td>\n",
       "      <td>NaN</td>\n",
       "      <td>0.798</td>\n",
       "      <td>0.754</td>\n",
       "      <td>0.292</td>\n",
       "    </tr>\n",
       "    <tr>\n",
       "      <th>112</th>\n",
       "      <td>Vietnam</td>\n",
       "      <td>2022</td>\n",
       "      <td>6.267</td>\n",
       "      <td>9.333</td>\n",
       "      <td>0.879</td>\n",
       "      <td>65.600</td>\n",
       "      <td>0.975</td>\n",
       "      <td>-0.179</td>\n",
       "      <td>0.703</td>\n",
       "      <td>0.774</td>\n",
       "      <td>0.108</td>\n",
       "    </tr>\n",
       "    <tr>\n",
       "      <th>113</th>\n",
       "      <td>Zimbabwe</td>\n",
       "      <td>2022</td>\n",
       "      <td>3.296</td>\n",
       "      <td>7.670</td>\n",
       "      <td>0.666</td>\n",
       "      <td>54.525</td>\n",
       "      <td>0.652</td>\n",
       "      <td>-0.070</td>\n",
       "      <td>0.753</td>\n",
       "      <td>0.641</td>\n",
       "      <td>0.191</td>\n",
       "    </tr>\n",
       "  </tbody>\n",
       "</table>\n",
       "<p>114 rows × 11 columns</p>\n",
       "</div>"
      ],
      "text/plain": [
       "    country_name  year  life_ladder  log_gdp_per_capita  social_support  \\\n",
       "0    Afghanistan  2022        1.281                 NaN           0.228   \n",
       "1        Albania  2022        5.212               9.626           0.724   \n",
       "2      Argentina  2022        6.261              10.011           0.893   \n",
       "3        Armenia  2022        5.382               9.668           0.811   \n",
       "4      Australia  2022        7.035              10.854           0.942   \n",
       "..           ...   ...          ...                 ...             ...   \n",
       "109      Uruguay  2022        6.671              10.084           0.905   \n",
       "110   Uzbekistan  2022        6.016               8.990           0.879   \n",
       "111    Venezuela  2022        5.949                 NaN           0.899   \n",
       "112      Vietnam  2022        6.267               9.333           0.879   \n",
       "113     Zimbabwe  2022        3.296               7.670           0.666   \n",
       "\n",
       "     healthy_life_expectancy_at_birth  freedom_to_make_life_choices  \\\n",
       "0                              54.875                         0.368   \n",
       "1                              69.175                         0.802   \n",
       "2                              67.250                         0.825   \n",
       "3                              67.925                         0.790   \n",
       "4                              71.125                         0.854   \n",
       "..                                ...                           ...   \n",
       "109                            67.500                         0.878   \n",
       "110                            65.600                         0.959   \n",
       "111                            63.875                         0.770   \n",
       "112                            65.600                         0.975   \n",
       "113                            54.525                         0.652   \n",
       "\n",
       "     generosity  perceptions_of_corruption  positive_affect  negative_affect  \n",
       "0           NaN                      0.733            0.206            0.576  \n",
       "1        -0.066                      0.846            0.547            0.255  \n",
       "2        -0.128                      0.810            0.724            0.284  \n",
       "3        -0.154                      0.705            0.531            0.549  \n",
       "4         0.153                      0.545            0.711            0.244  \n",
       "..          ...                        ...              ...              ...  \n",
       "109      -0.052                      0.631            0.775            0.267  \n",
       "110       0.309                      0.616            0.741            0.225  \n",
       "111         NaN                      0.798            0.754            0.292  \n",
       "112      -0.179                      0.703            0.774            0.108  \n",
       "113      -0.070                      0.753            0.641            0.191  \n",
       "\n",
       "[114 rows x 11 columns]"
      ]
     },
     "execution_count": 20,
     "metadata": {},
     "output_type": "execute_result"
    }
   ],
   "source": [
    "new_df = df[df[\"year\"] == 2022]\n",
    "new_df = new_df.reset_index(drop=True)\n",
    "new_df"
   ]
  },
  {
   "cell_type": "markdown",
   "metadata": {
    "id": "84blfGwlvTC2"
   },
   "source": [
    "# 4. Summary Statistics\n",
    "Later in this course you will learn about summary statistics. For now, this is just to show you that Pandas allows for a very simple way to calculate all sorts of statistics using `describe()`. Run the cell below to see a quick statistical summary of your data. It doesn't matter if you don't know what each row means, you will learn all about it in the coming weeks."
   ]
  },
  {
   "cell_type": "code",
   "execution_count": 21,
   "metadata": {
    "colab": {
     "base_uri": "https://localhost:8080/",
     "height": 300
    },
    "executionInfo": {
     "elapsed": 365,
     "status": "ok",
     "timestamp": 1704214930841,
     "user": {
      "displayName": "Jan Ravnik",
      "userId": "05926525048765143323"
     },
     "user_tz": -60
    },
    "id": "ijgOv6JB5wvx",
    "outputId": "0efe7163-008b-40a8-80f8-5ebf16458b2e"
   },
   "outputs": [
    {
     "data": {
      "text/html": [
       "<div>\n",
       "<style scoped>\n",
       "    .dataframe tbody tr th:only-of-type {\n",
       "        vertical-align: middle;\n",
       "    }\n",
       "\n",
       "    .dataframe tbody tr th {\n",
       "        vertical-align: top;\n",
       "    }\n",
       "\n",
       "    .dataframe thead th {\n",
       "        text-align: right;\n",
       "    }\n",
       "</style>\n",
       "<table border=\"1\" class=\"dataframe\">\n",
       "  <thead>\n",
       "    <tr style=\"text-align: right;\">\n",
       "      <th></th>\n",
       "      <th>year</th>\n",
       "      <th>life_ladder</th>\n",
       "      <th>log_gdp_per_capita</th>\n",
       "      <th>social_support</th>\n",
       "      <th>healthy_life_expectancy_at_birth</th>\n",
       "      <th>freedom_to_make_life_choices</th>\n",
       "      <th>generosity</th>\n",
       "      <th>perceptions_of_corruption</th>\n",
       "      <th>positive_affect</th>\n",
       "      <th>negative_affect</th>\n",
       "    </tr>\n",
       "  </thead>\n",
       "  <tbody>\n",
       "    <tr>\n",
       "      <th>count</th>\n",
       "      <td>2199.000000</td>\n",
       "      <td>2199.000000</td>\n",
       "      <td>2179.000000</td>\n",
       "      <td>2186.000000</td>\n",
       "      <td>2145.000000</td>\n",
       "      <td>2166.000000</td>\n",
       "      <td>2126.000000</td>\n",
       "      <td>2083.000000</td>\n",
       "      <td>2175.000000</td>\n",
       "      <td>2183.000000</td>\n",
       "    </tr>\n",
       "    <tr>\n",
       "      <th>mean</th>\n",
       "      <td>2014.161437</td>\n",
       "      <td>5.479227</td>\n",
       "      <td>9.389760</td>\n",
       "      <td>0.810681</td>\n",
       "      <td>63.294582</td>\n",
       "      <td>0.747847</td>\n",
       "      <td>0.000091</td>\n",
       "      <td>0.745208</td>\n",
       "      <td>0.652148</td>\n",
       "      <td>0.271493</td>\n",
       "    </tr>\n",
       "    <tr>\n",
       "      <th>std</th>\n",
       "      <td>4.718736</td>\n",
       "      <td>1.125527</td>\n",
       "      <td>1.153402</td>\n",
       "      <td>0.120953</td>\n",
       "      <td>6.901104</td>\n",
       "      <td>0.140137</td>\n",
       "      <td>0.161079</td>\n",
       "      <td>0.185835</td>\n",
       "      <td>0.105913</td>\n",
       "      <td>0.086872</td>\n",
       "    </tr>\n",
       "    <tr>\n",
       "      <th>min</th>\n",
       "      <td>2005.000000</td>\n",
       "      <td>1.281000</td>\n",
       "      <td>5.527000</td>\n",
       "      <td>0.228000</td>\n",
       "      <td>6.720000</td>\n",
       "      <td>0.258000</td>\n",
       "      <td>-0.338000</td>\n",
       "      <td>0.035000</td>\n",
       "      <td>0.179000</td>\n",
       "      <td>0.083000</td>\n",
       "    </tr>\n",
       "    <tr>\n",
       "      <th>25%</th>\n",
       "      <td>2010.000000</td>\n",
       "      <td>4.647000</td>\n",
       "      <td>8.500000</td>\n",
       "      <td>0.747000</td>\n",
       "      <td>59.120000</td>\n",
       "      <td>0.656250</td>\n",
       "      <td>-0.112000</td>\n",
       "      <td>0.688000</td>\n",
       "      <td>0.572000</td>\n",
       "      <td>0.208000</td>\n",
       "    </tr>\n",
       "    <tr>\n",
       "      <th>50%</th>\n",
       "      <td>2014.000000</td>\n",
       "      <td>5.432000</td>\n",
       "      <td>9.499000</td>\n",
       "      <td>0.836000</td>\n",
       "      <td>65.050000</td>\n",
       "      <td>0.770000</td>\n",
       "      <td>-0.023000</td>\n",
       "      <td>0.800000</td>\n",
       "      <td>0.663000</td>\n",
       "      <td>0.261000</td>\n",
       "    </tr>\n",
       "    <tr>\n",
       "      <th>75%</th>\n",
       "      <td>2018.000000</td>\n",
       "      <td>6.309500</td>\n",
       "      <td>10.373500</td>\n",
       "      <td>0.905000</td>\n",
       "      <td>68.500000</td>\n",
       "      <td>0.859000</td>\n",
       "      <td>0.092000</td>\n",
       "      <td>0.869000</td>\n",
       "      <td>0.738000</td>\n",
       "      <td>0.323000</td>\n",
       "    </tr>\n",
       "    <tr>\n",
       "      <th>max</th>\n",
       "      <td>2022.000000</td>\n",
       "      <td>8.019000</td>\n",
       "      <td>11.664000</td>\n",
       "      <td>0.987000</td>\n",
       "      <td>74.475000</td>\n",
       "      <td>0.985000</td>\n",
       "      <td>0.703000</td>\n",
       "      <td>0.983000</td>\n",
       "      <td>0.884000</td>\n",
       "      <td>0.705000</td>\n",
       "    </tr>\n",
       "  </tbody>\n",
       "</table>\n",
       "</div>"
      ],
      "text/plain": [
       "              year  life_ladder  log_gdp_per_capita  social_support  \\\n",
       "count  2199.000000  2199.000000         2179.000000     2186.000000   \n",
       "mean   2014.161437     5.479227            9.389760        0.810681   \n",
       "std       4.718736     1.125527            1.153402        0.120953   \n",
       "min    2005.000000     1.281000            5.527000        0.228000   \n",
       "25%    2010.000000     4.647000            8.500000        0.747000   \n",
       "50%    2014.000000     5.432000            9.499000        0.836000   \n",
       "75%    2018.000000     6.309500           10.373500        0.905000   \n",
       "max    2022.000000     8.019000           11.664000        0.987000   \n",
       "\n",
       "       healthy_life_expectancy_at_birth  freedom_to_make_life_choices  \\\n",
       "count                       2145.000000                   2166.000000   \n",
       "mean                          63.294582                      0.747847   \n",
       "std                            6.901104                      0.140137   \n",
       "min                            6.720000                      0.258000   \n",
       "25%                           59.120000                      0.656250   \n",
       "50%                           65.050000                      0.770000   \n",
       "75%                           68.500000                      0.859000   \n",
       "max                           74.475000                      0.985000   \n",
       "\n",
       "        generosity  perceptions_of_corruption  positive_affect  \\\n",
       "count  2126.000000                2083.000000      2175.000000   \n",
       "mean      0.000091                   0.745208         0.652148   \n",
       "std       0.161079                   0.185835         0.105913   \n",
       "min      -0.338000                   0.035000         0.179000   \n",
       "25%      -0.112000                   0.688000         0.572000   \n",
       "50%      -0.023000                   0.800000         0.663000   \n",
       "75%       0.092000                   0.869000         0.738000   \n",
       "max       0.703000                   0.983000         0.884000   \n",
       "\n",
       "       negative_affect  \n",
       "count      2183.000000  \n",
       "mean          0.271493  \n",
       "std           0.086872  \n",
       "min           0.083000  \n",
       "25%           0.208000  \n",
       "50%           0.261000  \n",
       "75%           0.323000  \n",
       "max           0.705000  "
      ]
     },
     "execution_count": 21,
     "metadata": {},
     "output_type": "execute_result"
    }
   ],
   "source": [
    "df.describe()"
   ]
  },
  {
   "cell_type": "markdown",
   "metadata": {
    "id": "OsjKgtQKHGmU"
   },
   "source": [
    "Not all of the summary statistics always make sense. In your case, for example, you are looking at the summary statistics across various columns. But are you sure you know what the final numbers actually mean? You have data for many different countries, but are you sure that you have the same amount of datapoints for each country or for each year? Also the countries can have vastly different populations, is it fair to just average the numbers out?\n",
    "\n",
    "# 5. Plotting\n",
    "If you want to plot the data, you can use `DataFrame.plot()`. By default it uses the index as the x axis and plots all the numeric columns as y axes. Run the cell below to see the output for your dataframe."
   ]
  },
  {
   "cell_type": "code",
   "execution_count": 22,
   "metadata": {
    "colab": {
     "base_uri": "https://localhost:8080/",
     "height": 447
    },
    "executionInfo": {
     "elapsed": 871,
     "status": "ok",
     "timestamp": 1704214933341,
     "user": {
      "displayName": "Jan Ravnik",
      "userId": "05926525048765143323"
     },
     "user_tz": -60
    },
    "id": "nEzjZq6rHGRF",
    "outputId": "4fd3b85b-6436-4b34-c7a7-7183244b72c3"
   },
   "outputs": [
    {
     "data": {
      "text/plain": [
       "<Axes: >"
      ]
     },
     "execution_count": 22,
     "metadata": {},
     "output_type": "execute_result"
    },
    {
     "data": {
      "image/png": "[encoded data removed]",
      "text/plain": [
       "<Figure size 640x480 with 1 Axes>"
      ]
     },
     "metadata": {},
     "output_type": "display_data"
    }
   ],
   "source": [
    "# If the plot doesn’t render, first try re-running this cell. If that doesn’t work, \n",
    "# you can restart the kernel (from the Kernel menu above) and try running the notebook again\n",
    "df.plot()"
   ]
  },
  {
   "cell_type": "markdown",
   "metadata": {
    "id": "P2m9tbrEHGEy"
   },
   "source": [
    "As you can see, in this case the plot is not very useful. The index does not have any specific meaning, and the values of various columns differ greatly (years are all around 2000, but the values in the other columns are much lower) and thus you cannot see much in the plot. Try setting some parameters of the `.plot()` method to see what it allows you to do. You can find the documentation [here](https://pandas.pydata.org/pandas-docs/stable/reference/api/pandas.DataFrame.plot.html).\n",
    "\n",
    "Run the cell below to see a scatter plot with specifically chosen x and y variables. On the x axis there is logarithm of the GDP (measuring the wealth) while on the y axis there is the life ladder. This column contains values which are an estimate of self-assessed life quality on a scale of 1 to 10 as given by a survey among the people."
   ]
  },
  {
   "cell_type": "code",
   "execution_count": 23,
   "metadata": {
    "colab": {
     "base_uri": "https://localhost:8080/",
     "height": 467
    },
    "executionInfo": {
     "elapsed": 1040,
     "status": "ok",
     "timestamp": 1704215186678,
     "user": {
      "displayName": "Jan Ravnik",
      "userId": "05926525048765143323"
     },
     "user_tz": -60
    },
    "id": "VKDQS4vCHF4j",
    "outputId": "f15da814-d6a9-4fb9-f67c-668e32d69b59"
   },
   "outputs": [
    {
     "data": {
      "text/plain": [
       "<Axes: xlabel='log_gdp_per_capita', ylabel='life_ladder'>"
      ]
     },
     "execution_count": 23,
     "metadata": {},
     "output_type": "execute_result"
    },
    {
     "data": {
      "image/png": "[encoded data removed]",
      "text/plain": [
       "<Figure size 640x480 with 1 Axes>"
      ]
     },
     "metadata": {},
     "output_type": "display_data"
    }
   ],
   "source": [
    "df.plot(kind='scatter', x='log_gdp_per_capita', y='life_ladder')"
   ]
  },
  {
   "cell_type": "markdown",
   "metadata": {
    "id": "WQBXxlbWJE87"
   },
   "source": [
    "You can see that there is some sort of trend between the wealth of the country and the happiness of the population and you can say that it looks like that wealthier people are to some extent happier. In week three, you will explore this kind of relationship further. \n",
    "\n",
    "Sometimes it is very insightful to separate the points by colors to highlight different characteristics or some points you are most interested in. Take a look at the example below"
   ]
  },
  {
   "cell_type": "code",
   "execution_count": 24,
   "metadata": {
    "colab": {
     "base_uri": "https://localhost:8080/",
     "height": 467
    },
    "executionInfo": {
     "elapsed": 1024,
     "status": "ok",
     "timestamp": 1704227810874,
     "user": {
      "displayName": "Jan Ravnik",
      "userId": "05926525048765143323"
     },
     "user_tz": -60
    },
    "id": "mkZHKrhfJfJD",
    "outputId": "35d76cf5-81af-4330-fea6-4a859510b91f"
   },
   "outputs": [
    {
     "data": {
      "text/plain": [
       "<Axes: xlabel='log_gdp_per_capita', ylabel='life_ladder'>"
      ]
     },
     "execution_count": 24,
     "metadata": {},
     "output_type": "execute_result"
    },
    {
     "data": {
      "image/png": "[encoded data removed]",
      "text/plain": [
       "<Figure size 640x480 with 1 Axes>"
      ]
     },
     "metadata": {},
     "output_type": "display_data"
    }
   ],
   "source": [
    "# Create a dictionary to map the country names to colors\n",
    "cmap = {\n",
    "    'Brazil': 'Green',\n",
    "    'Slovenia': 'Orange',\n",
    "    'India': 'purple'\n",
    "}\n",
    "\n",
    "df.plot(\n",
    "    kind='scatter',\n",
    "    x='log_gdp_per_capita',\n",
    "    y='life_ladder',\n",
    "    c=[cmap.get(c, 'yellow') for c in df.country_name], # Set the colors\n",
    "    s=2 # Set the size of the points\n",
    "    )"
   ]
  },
  {
   "cell_type": "markdown",
   "metadata": {},
   "source": [
    "You can see that even though in general higher GDP means higher value on the life ladder, this is not an universal truth. Comparing Slovenia (orange) with Brazil (green), you can see that people in Brazil earn less, but are on average happier than Slovenians through the years.\n",
    "\n",
    "Another very useful task you can do with plots is to visulize the distribution of your data. You will learn how to do this in more detail later, but for example you can easily plot a histogram using Pandas. Ise `DataFrame.hist()` on the dataframe you want to plot. Note that if you have many columns in the dataframe, this command will plot a histogram for each of the columns. You can select a single column from the dataframe if you only want to plot that one."
   ]
  },
  {
   "cell_type": "code",
   "execution_count": 27,
   "metadata": {},
   "outputs": [
    {
     "data": {
      "text/plain": [
       "array([[<Axes: title={'center': 'life_ladder'}>]], dtype=object)"
      ]
     },
     "execution_count": 27,
     "metadata": {},
     "output_type": "execute_result"
    },
    {
     "data": {
      "image/png": "[encoded data removed]",
      "text/plain": [
       "<Figure size 640x480 with 1 Axes>"
      ]
     },
     "metadata": {},
     "output_type": "display_data"
    }
   ],
   "source": [
    "df.hist(\"life_ladder\")"
   ]
  },
  {
   "cell_type": "markdown",
   "metadata": {},
   "source": [
    "What you see in this histogram is a distribution of values in the \"life_ladder\" column. What do you think about this distribution on the first glance? Are the people generally happy about their quality of life? Note that to answer this question properly, you need to dig a bit deeper into the data: understand where each value comes from, as the values are not single datapoints (single answers by people), but already aggregated values across countries and at various points in time.\n",
    "\n",
    "You can use other external libraries to easily produce various advanced plots. One of such libraries is [Seaborn](https://seaborn.pydata.org/). You have already imported it at the beginning of this lab using `import seaborn as sns`. Run the cell below to see one of the many simple and efficient plotting possibilities (you will use this one later on in the other notebooks as well). Since the dataset has many columns it might take a few seconds to run."
   ]
  },
  {
   "cell_type": "code",
   "execution_count": null,
   "metadata": {
    "colab": {
     "base_uri": "https://localhost:8080/",
     "height": 1000
    },
    "executionInfo": {
     "elapsed": 40129,
     "status": "ok",
     "timestamp": 1702912898232,
     "user": {
      "displayName": "Jan Ravnik",
      "userId": "05926525048765143323"
     },
     "user_tz": -60
    },
    "id": "_Rwa_hXqeuCb",
    "outputId": "280b8e51-58bd-4f14-a8e4-eac7ce72ccbc"
   },
   "outputs": [
    {
     "data": {
      "text/plain": [
       "<seaborn.axisgrid.PairGrid at 0x72c5697d8bb0>"
      ]
     },
     "execution_count": 28,
     "metadata": {},
     "output_type": "execute_result"
    }
   ],
   "source": [
    "# If the plot doesn’t render, first try re-running this cell. If that doesn’t work, \n",
    "# you can restart the kernel (from the Kernel menu above) and try running the notebook again\n",
    "sns.pairplot(df)"
   ]
  },
  {
   "cell_type": "markdown",
   "metadata": {},
   "source": [
    "With this kind of plot, you can see pairwise scatter plots for each pair of columns. On the diagonal (where both columns are the same), you don't have a scatter plot (which would only show a line), but a histogram showing the distribution of datapoints.\n",
    "\n",
    "You can see that both the scatter plots and histograms have very different shapes across columns. Think about various insights you could get from this kind of visualization."
   ]
  },
  {
   "cell_type": "markdown",
   "metadata": {},
   "source": [
    "# 6. Operations on Columns\n",
    "Sometimes the values in the columns are not giving you the information that you need, but there is a way to calculate that information from the values you have.\n",
    "\n",
    "For example you can create a new column, which is a sum of two columns."
   ]
  },
  {
   "cell_type": "code",
   "execution_count": null,
   "metadata": {},
   "outputs": [],
   "source": [
    "# Create a new column which is the sum of the year and the value on the life ladder.\n",
    "df[\"this_column_makes_no_sense\"] = df[\"year\"] + df[\"life_ladder\"]\n",
    "# Create a new column which is the difference of two columns.\n",
    "df[\"net_affect_difference\"] = df[\"positive_affect\"] - df[\"negative_affect\"]\n",
    "\n",
    "df.head()"
   ]
  },
  {
   "cell_type": "markdown",
   "metadata": {},
   "source": [
    "Above you can see your dataframe with both new columns. The first one doesn't make much sense, it's just adding the year to the life ladder. The second one, however, find the net difference between positive and negative affect. Perhaps there's an interesting set of patterns between this new column and other columns that you'd now be able to explore. What other columns might you want to calculate? In general, the ability to create new columns using operations on existing columns can be a powerful tool.\n",
    "\n",
    "If you want to perform some more advanced operations on columns, you can use `DataFrame.apply()`, with which you can apply practically any function to a column. Below you can see how to use the `DataFrame.apply()` in various ways. Try to edit `my_function` to perform an operation of your choice."
   ]
  },
  {
   "cell_type": "code",
   "execution_count": 30,
   "metadata": {},
   "outputs": [
    {
     "data": {
      "text/html": [
       "<div>\n",
       "<style scoped>\n",
       "    .dataframe tbody tr th:only-of-type {\n",
       "        vertical-align: middle;\n",
       "    }\n",
       "\n",
       "    .dataframe tbody tr th {\n",
       "        vertical-align: top;\n",
       "    }\n",
       "\n",
       "    .dataframe thead th {\n",
       "        text-align: right;\n",
       "    }\n",
       "</style>\n",
       "<table border=\"1\" class=\"dataframe\">\n",
       "  <thead>\n",
       "    <tr style=\"text-align: right;\">\n",
       "      <th></th>\n",
       "      <th>country_name</th>\n",
       "      <th>year</th>\n",
       "      <th>life_ladder</th>\n",
       "      <th>log_gdp_per_capita</th>\n",
       "      <th>social_support</th>\n",
       "      <th>healthy_life_expectancy_at_birth</th>\n",
       "      <th>freedom_to_make_life_choices</th>\n",
       "      <th>generosity</th>\n",
       "      <th>perceptions_of_corruption</th>\n",
       "      <th>positive_affect</th>\n",
       "      <th>negative_affect</th>\n",
       "      <th>life_ladder_rescaled</th>\n",
       "      <th>my_function</th>\n",
       "    </tr>\n",
       "  </thead>\n",
       "  <tbody>\n",
       "    <tr>\n",
       "      <th>0</th>\n",
       "      <td>Afghanistan</td>\n",
       "      <td>2008</td>\n",
       "      <td>3.724</td>\n",
       "      <td>7.350</td>\n",
       "      <td>0.451</td>\n",
       "      <td>50.5</td>\n",
       "      <td>0.718</td>\n",
       "      <td>0.168</td>\n",
       "      <td>0.882</td>\n",
       "      <td>0.414</td>\n",
       "      <td>0.258</td>\n",
       "      <td>0.3724</td>\n",
       "      <td>7.448</td>\n",
       "    </tr>\n",
       "    <tr>\n",
       "      <th>1</th>\n",
       "      <td>Afghanistan</td>\n",
       "      <td>2009</td>\n",
       "      <td>4.402</td>\n",
       "      <td>7.509</td>\n",
       "      <td>0.552</td>\n",
       "      <td>50.8</td>\n",
       "      <td>0.679</td>\n",
       "      <td>0.191</td>\n",
       "      <td>0.850</td>\n",
       "      <td>0.481</td>\n",
       "      <td>0.237</td>\n",
       "      <td>0.4402</td>\n",
       "      <td>8.804</td>\n",
       "    </tr>\n",
       "    <tr>\n",
       "      <th>2</th>\n",
       "      <td>Afghanistan</td>\n",
       "      <td>2010</td>\n",
       "      <td>4.758</td>\n",
       "      <td>7.614</td>\n",
       "      <td>0.539</td>\n",
       "      <td>51.1</td>\n",
       "      <td>0.600</td>\n",
       "      <td>0.121</td>\n",
       "      <td>0.707</td>\n",
       "      <td>0.517</td>\n",
       "      <td>0.275</td>\n",
       "      <td>0.4758</td>\n",
       "      <td>9.516</td>\n",
       "    </tr>\n",
       "    <tr>\n",
       "      <th>3</th>\n",
       "      <td>Afghanistan</td>\n",
       "      <td>2011</td>\n",
       "      <td>3.832</td>\n",
       "      <td>7.581</td>\n",
       "      <td>0.521</td>\n",
       "      <td>51.4</td>\n",
       "      <td>0.496</td>\n",
       "      <td>0.164</td>\n",
       "      <td>0.731</td>\n",
       "      <td>0.480</td>\n",
       "      <td>0.267</td>\n",
       "      <td>0.3832</td>\n",
       "      <td>7.664</td>\n",
       "    </tr>\n",
       "    <tr>\n",
       "      <th>4</th>\n",
       "      <td>Afghanistan</td>\n",
       "      <td>2012</td>\n",
       "      <td>3.783</td>\n",
       "      <td>7.661</td>\n",
       "      <td>0.521</td>\n",
       "      <td>51.7</td>\n",
       "      <td>0.531</td>\n",
       "      <td>0.238</td>\n",
       "      <td>0.776</td>\n",
       "      <td>0.614</td>\n",
       "      <td>0.268</td>\n",
       "      <td>0.3783</td>\n",
       "      <td>7.566</td>\n",
       "    </tr>\n",
       "  </tbody>\n",
       "</table>\n",
       "</div>"
      ],
      "text/plain": [
       "  country_name  year  life_ladder  log_gdp_per_capita  social_support  \\\n",
       "0  Afghanistan  2008        3.724               7.350           0.451   \n",
       "1  Afghanistan  2009        4.402               7.509           0.552   \n",
       "2  Afghanistan  2010        4.758               7.614           0.539   \n",
       "3  Afghanistan  2011        3.832               7.581           0.521   \n",
       "4  Afghanistan  2012        3.783               7.661           0.521   \n",
       "\n",
       "   healthy_life_expectancy_at_birth  freedom_to_make_life_choices  generosity  \\\n",
       "0                              50.5                         0.718       0.168   \n",
       "1                              50.8                         0.679       0.191   \n",
       "2                              51.1                         0.600       0.121   \n",
       "3                              51.4                         0.496       0.164   \n",
       "4                              51.7                         0.531       0.238   \n",
       "\n",
       "   perceptions_of_corruption  positive_affect  negative_affect  \\\n",
       "0                      0.882            0.414            0.258   \n",
       "1                      0.850            0.481            0.237   \n",
       "2                      0.707            0.517            0.275   \n",
       "3                      0.731            0.480            0.267   \n",
       "4                      0.776            0.614            0.268   \n",
       "\n",
       "   life_ladder_rescaled  my_function  \n",
       "0                0.3724        7.448  \n",
       "1                0.4402        8.804  \n",
       "2                0.4758        9.516  \n",
       "3                0.3832        7.664  \n",
       "4                0.3783        7.566  "
      ]
     },
     "execution_count": 30,
     "metadata": {},
     "output_type": "execute_result"
    }
   ],
   "source": [
    "# Using df.apply() with a lambda function\n",
    "# Rescale the life_ladder column to values between 0 and 1 and save it to a new column\n",
    "df['life_ladder_rescaled'] = df['life_ladder'].apply(lambda x: x / 10)\n",
    "\n",
    "# Using df.apply() with your own function\n",
    "# First define a function. The function can do whatever you want. This example will double the column's values\n",
    "def my_function(x):\n",
    "    # do stuff to x\n",
    "    y = x * 2\n",
    "    return y\n",
    "# Apply the function.\n",
    "df['my_function'] = df['life_ladder'].apply(my_function)\n",
    "\n",
    "# Show the new dataframe\n",
    "df.head()"
   ]
  },
  {
   "cell_type": "markdown",
   "metadata": {},
   "source": [
    "**Congratulations on finishing this lab.** If you understand the code above, you are well suited to start working on this week's programming assignment and other labs and assignments throughout the course which use Pandas. If you need a refresher on Pandas in other Exploratory Data Analysis labs, come back to this one and review the skills taught here."
   ]
  },
  {
   "cell_type": "code",
   "execution_count": null,
   "metadata": {},
   "outputs": [],
   "source": []
  }
 ],
 "metadata": {
  "colab": {
   "provenance": []
  },
  "kernelspec": {
   "display_name": "Python 3 (ipykernel)",
   "language": "python",
   "name": "python3"
  },
  "language_info": {
   "codemirror_mode": {
    "name": "ipython",
    "version": 3
   },
   "file_extension": ".py",
   "mimetype": "text/x-python",
   "name": "python",
   "nbconvert_exporter": "python",
   "pygments_lexer": "ipython3",
   "version": "3.10.11"
  }
 },
 "nbformat": 4,
 "nbformat_minor": 1
}
